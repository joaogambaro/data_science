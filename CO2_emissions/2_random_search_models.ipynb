{
 "cells": [
  {
   "cell_type": "code",
   "execution_count": 1,
   "id": "ae4cf6db",
   "metadata": {
    "scrolled": true
   },
   "outputs": [
    {
     "data": {
      "text/html": [
       "<style>.container { width:100% !important; }</style>"
      ],
      "text/plain": [
       "<IPython.core.display.HTML object>"
      ]
     },
     "metadata": {},
     "output_type": "display_data"
    }
   ],
   "source": [
    "from IPython.display import display, HTML\n",
    "display(HTML(\"<style>.container { width:100% !important; }</style>\"))"
   ]
  },
  {
   "cell_type": "markdown",
   "id": "bcaa08e9",
   "metadata": {},
   "source": [
    "# Índice <a id=\"ind\"></a>\n",
    "\n",
    "* [1 - Caminhos dos arquivos](#path)\n",
    "* [2 - Bibliotecas](#bib)\n",
    "* [3 - Preparação dos dados](#prep_dados)\n",
    "* [4 - Treinamento dos  modelos](#trei_mod)\n",
    "    - [4.1 - Random forest](#red_forest)\n",
    "    - [4.2 - XG boost](#xgboost)\n",
    "    - [4.3 - Random forrest com clusterização (k=2)](#rf_clus_2)\n",
    "    - [4.4 - XGBoost com clusterização (k=2)](#xg_clas_2)    \n",
    "    - [4.5 - Random forrest com clusterização (k=3)](#rf_clus_3)    \n",
    "    - [4.6 - XGBoost com clusterização (k=3)](#xg_clas_3)    \n",
    "    - [4.7 - Random forrest com clusterização (k=4)](#rf_clus_4)    \n",
    "    - [4.8 - XGBoost com clusterização (k=4](#xg_clus_4)    \n",
    "    - [4.9 - Random forest com PCA](#rf_pca)    \n",
    "    - [4.10 - XGBoost com PCA](#xg_pca)\n"
   ]
  },
  {
   "cell_type": "markdown",
   "id": "9c866208",
   "metadata": {},
   "source": [
    "# 1 - Caminhos dos arquivos<a id=\"path\"></a>\n",
    "[Índice](#ind)"
   ]
  },
  {
   "cell_type": "code",
   "execution_count": 17,
   "id": "ea88e5c7",
   "metadata": {},
   "outputs": [],
   "source": [
    "from pathlib import Path\n",
    "import os\n",
    "import sys"
   ]
  },
  {
   "cell_type": "code",
   "execution_count": 18,
   "id": "2d7ba13e",
   "metadata": {},
   "outputs": [],
   "source": [
    "# adiciona modulos no python path\n",
    "#sys.path.append('..//modulos')\n",
    "\n",
    "# caminhos dos arquivos\n",
    "current_path = os.getcwd()\n",
    "path_dados=Path(current_path)/\"dados\"\n",
    "path_modelos=Path(current_path)/\"modelos\"\n",
    "\n",
    "#cria o diretório 'modelos'\n",
    "if not os.path.isdir(path_modelos):\n",
    "    os.makedirs(path_modelos) "
   ]
  },
  {
   "cell_type": "markdown",
   "id": "59045b54",
   "metadata": {},
   "source": [
    "# 2 - Bibliotecas<a id=\"bib\"></a>\n",
    "[Índice](#ind)"
   ]
  },
  {
   "cell_type": "code",
   "execution_count": 19,
   "id": "b44f656d",
   "metadata": {},
   "outputs": [],
   "source": [
    "# bibliotecas\n",
    "import pandas as pd\n",
    "pd.pandas.set_option('display.max_columns', None)\n",
    "\n",
    "# importa modulos\n",
    "import modulos.funcoes_ML as func_ml\n",
    "import modulos.transformacoes_ML as trans_ml\n",
    "from scipy import stats\n",
    "import joblib\n",
    "\n",
    "from sklearn.pipeline import Pipeline\n",
    "from sklearn.model_selection import (\n",
    "    GridSearchCV,\n",
    "    train_test_split,\n",
    "    RandomizedSearchCV\n",
    ")\n",
    "\n",
    "#modelos\n",
    "import xgboost as xgb\n",
    "from sklearn.ensemble import RandomForestRegressor\n",
    "\n",
    "import importlib    #usar como: importlib.reload(nome_pack)"
   ]
  },
  {
   "cell_type": "markdown",
   "id": "257631c8",
   "metadata": {},
   "source": [
    "# 3 - Preparação dos dados<a id=\"prep_dados\"></a>\n",
    "[Índice](#ind)"
   ]
  },
  {
   "cell_type": "code",
   "execution_count": 20,
   "id": "dbd4d341",
   "metadata": {},
   "outputs": [],
   "source": [
    "#carrega os dados\n",
    "df=pd.read_csv(path_dados/\"CO2 Emissions_Canada.csv\", low_memory=False)\n",
    "\n",
    "#renomeia as variáveis\n",
    "mapper={\"Engine Size(L)\":\"Engine Size\",\n",
    "        \"Fuel Consumption City (L/100 km)\":\"Fuel Consumption City\",\n",
    "        \"Fuel Consumption Hwy (L/100 km)\":\"Fuel Consumption Hwy\",\n",
    "        \"Fuel Consumption Comb (L/100 km)\":\"Fuel Consumption Comb A\",\n",
    "        \"Fuel Consumption Comb (mpg)\":\"Fuel Consumption Comb B\",\n",
    "        \"CO2 Emissions(g/km)\":\"CO2 Emissions\",       \n",
    "       }\n",
    "df.rename(mapper=mapper, axis=1, inplace=True)\n",
    "\n",
    "# Codifica variáveis categóricas\n",
    "df_modelos = df.copy()\n",
    "lab_enc = trans_ml.Mapeamento()\n",
    "df_modelos = lab_enc.fit_transform(df_modelos)\n"
   ]
  },
  {
   "cell_type": "code",
   "execution_count": 21,
   "id": "d19b0e00",
   "metadata": {},
   "outputs": [],
   "source": [
    "# Divide os dados \n",
    "# -------------------------------------\n",
    "\n",
    "# dados de teste e treinamento\n",
    "df_train, df_test = train_test_split(df_modelos,test_size=0.2, random_state=1000)\n",
    "\n",
    "# variável treinamento e alvo\n",
    "col_alvo='CO2 Emissions'\n",
    "col_treinamento=[var for var in df_modelos.columns if var != 'CO2 Emissions']\n",
    "\n",
    "# dados de treinamento\n",
    "X_train=df_train[col_treinamento].values\n",
    "y_train=df_train[col_alvo].values\n",
    "\n",
    "# dados de teste\n",
    "X_test=df_test[col_treinamento].values\n",
    "y_test=df_test[col_alvo].values\n"
   ]
  },
  {
   "cell_type": "markdown",
   "id": "b0a3a57a",
   "metadata": {},
   "source": [
    "# 4 - Treinamento dos  modelos <a id=\"trei_mod\"></a>"
   ]
  },
  {
   "cell_type": "markdown",
   "id": "5436c124",
   "metadata": {},
   "source": [
    "## 4.1- Random forest <a id=\"red_forest\"></a>\n",
    "[Índice](#ind)"
   ]
  },
  {
   "cell_type": "code",
   "execution_count": 470,
   "id": "3b0a79f6",
   "metadata": {},
   "outputs": [
    {
     "name": "stdout",
     "output_type": "stream",
     "text": [
      "Fitting 5 folds for each of 100 candidates, totalling 500 fits\n"
     ]
    },
    {
     "data": {
      "text/html": [
       "<style>#sk-container-id-71 {color: black;background-color: white;}#sk-container-id-71 pre{padding: 0;}#sk-container-id-71 div.sk-toggleable {background-color: white;}#sk-container-id-71 label.sk-toggleable__label {cursor: pointer;display: block;width: 100%;margin-bottom: 0;padding: 0.3em;box-sizing: border-box;text-align: center;}#sk-container-id-71 label.sk-toggleable__label-arrow:before {content: \"▸\";float: left;margin-right: 0.25em;color: #696969;}#sk-container-id-71 label.sk-toggleable__label-arrow:hover:before {color: black;}#sk-container-id-71 div.sk-estimator:hover label.sk-toggleable__label-arrow:before {color: black;}#sk-container-id-71 div.sk-toggleable__content {max-height: 0;max-width: 0;overflow: hidden;text-align: left;background-color: #f0f8ff;}#sk-container-id-71 div.sk-toggleable__content pre {margin: 0.2em;color: black;border-radius: 0.25em;background-color: #f0f8ff;}#sk-container-id-71 input.sk-toggleable__control:checked~div.sk-toggleable__content {max-height: 200px;max-width: 100%;overflow: auto;}#sk-container-id-71 input.sk-toggleable__control:checked~label.sk-toggleable__label-arrow:before {content: \"▾\";}#sk-container-id-71 div.sk-estimator input.sk-toggleable__control:checked~label.sk-toggleable__label {background-color: #d4ebff;}#sk-container-id-71 div.sk-label input.sk-toggleable__control:checked~label.sk-toggleable__label {background-color: #d4ebff;}#sk-container-id-71 input.sk-hidden--visually {border: 0;clip: rect(1px 1px 1px 1px);clip: rect(1px, 1px, 1px, 1px);height: 1px;margin: -1px;overflow: hidden;padding: 0;position: absolute;width: 1px;}#sk-container-id-71 div.sk-estimator {font-family: monospace;background-color: #f0f8ff;border: 1px dotted black;border-radius: 0.25em;box-sizing: border-box;margin-bottom: 0.5em;}#sk-container-id-71 div.sk-estimator:hover {background-color: #d4ebff;}#sk-container-id-71 div.sk-parallel-item::after {content: \"\";width: 100%;border-bottom: 1px solid gray;flex-grow: 1;}#sk-container-id-71 div.sk-label:hover label.sk-toggleable__label {background-color: #d4ebff;}#sk-container-id-71 div.sk-serial::before {content: \"\";position: absolute;border-left: 1px solid gray;box-sizing: border-box;top: 0;bottom: 0;left: 50%;z-index: 0;}#sk-container-id-71 div.sk-serial {display: flex;flex-direction: column;align-items: center;background-color: white;padding-right: 0.2em;padding-left: 0.2em;position: relative;}#sk-container-id-71 div.sk-item {position: relative;z-index: 1;}#sk-container-id-71 div.sk-parallel {display: flex;align-items: stretch;justify-content: center;background-color: white;position: relative;}#sk-container-id-71 div.sk-item::before, #sk-container-id-71 div.sk-parallel-item::before {content: \"\";position: absolute;border-left: 1px solid gray;box-sizing: border-box;top: 0;bottom: 0;left: 50%;z-index: -1;}#sk-container-id-71 div.sk-parallel-item {display: flex;flex-direction: column;z-index: 1;position: relative;background-color: white;}#sk-container-id-71 div.sk-parallel-item:first-child::after {align-self: flex-end;width: 50%;}#sk-container-id-71 div.sk-parallel-item:last-child::after {align-self: flex-start;width: 50%;}#sk-container-id-71 div.sk-parallel-item:only-child::after {width: 0;}#sk-container-id-71 div.sk-dashed-wrapped {border: 1px dashed gray;margin: 0 0.4em 0.5em 0.4em;box-sizing: border-box;padding-bottom: 0.4em;background-color: white;}#sk-container-id-71 div.sk-label label {font-family: monospace;font-weight: bold;display: inline-block;line-height: 1.2em;}#sk-container-id-71 div.sk-label-container {text-align: center;}#sk-container-id-71 div.sk-container {/* jupyter's `normalize.less` sets `[hidden] { display: none; }` but bootstrap.min.css set `[hidden] { display: none !important; }` so we also need the `!important` here to be able to override the default hidden behavior on the sphinx rendered scikit-learn.org. See: https://github.com/scikit-learn/scikit-learn/issues/21755 */display: inline-block !important;position: relative;}#sk-container-id-71 div.sk-text-repr-fallback {display: none;}</style><div id=\"sk-container-id-71\" class=\"sk-top-container\"><div class=\"sk-text-repr-fallback\"><pre>Pipeline(steps=[(&#x27;rand_search&#x27;,\n",
       "                 RandomizedSearchCV(cv=5,\n",
       "                                    estimator=RandomForestRegressor(random_state=0),\n",
       "                                    n_iter=100, n_jobs=-1,\n",
       "                                    param_distributions={&#x27;max_depth&#x27;: &lt;scipy.stats._distn_infrastructure.rv_discrete_frozen object at 0x7f3217280e20&gt;,\n",
       "                                                         &#x27;max_features&#x27;: &lt;scipy.stats._distn_infrastructure.rv_discrete_frozen object at 0x7f3217281300&gt;,\n",
       "                                                         &#x27;n_estimators&#x27;: &lt;scipy.stats._distn_infrastructure.rv_discrete_frozen object at 0x7f3217269cf0&gt;},\n",
       "                                    random_state=10000, refit=False,\n",
       "                                    scoring=&#x27;neg_mean_squared_error&#x27;,\n",
       "                                    verbose=1))])</pre><b>In a Jupyter environment, please rerun this cell to show the HTML representation or trust the notebook. <br />On GitHub, the HTML representation is unable to render, please try loading this page with nbviewer.org.</b></div><div class=\"sk-container\" hidden><div class=\"sk-item sk-dashed-wrapped\"><div class=\"sk-label-container\"><div class=\"sk-label sk-toggleable\"><input class=\"sk-toggleable__control sk-hidden--visually\" id=\"sk-estimator-id-164\" type=\"checkbox\" ><label for=\"sk-estimator-id-164\" class=\"sk-toggleable__label sk-toggleable__label-arrow\">Pipeline</label><div class=\"sk-toggleable__content\"><pre>Pipeline(steps=[(&#x27;rand_search&#x27;,\n",
       "                 RandomizedSearchCV(cv=5,\n",
       "                                    estimator=RandomForestRegressor(random_state=0),\n",
       "                                    n_iter=100, n_jobs=-1,\n",
       "                                    param_distributions={&#x27;max_depth&#x27;: &lt;scipy.stats._distn_infrastructure.rv_discrete_frozen object at 0x7f3217280e20&gt;,\n",
       "                                                         &#x27;max_features&#x27;: &lt;scipy.stats._distn_infrastructure.rv_discrete_frozen object at 0x7f3217281300&gt;,\n",
       "                                                         &#x27;n_estimators&#x27;: &lt;scipy.stats._distn_infrastructure.rv_discrete_frozen object at 0x7f3217269cf0&gt;},\n",
       "                                    random_state=10000, refit=False,\n",
       "                                    scoring=&#x27;neg_mean_squared_error&#x27;,\n",
       "                                    verbose=1))])</pre></div></div></div><div class=\"sk-serial\"><div class=\"sk-item sk-dashed-wrapped\"><div class=\"sk-label-container\"><div class=\"sk-label sk-toggleable\"><input class=\"sk-toggleable__control sk-hidden--visually\" id=\"sk-estimator-id-165\" type=\"checkbox\" ><label for=\"sk-estimator-id-165\" class=\"sk-toggleable__label sk-toggleable__label-arrow\">rand_search: RandomizedSearchCV</label><div class=\"sk-toggleable__content\"><pre>RandomizedSearchCV(cv=5, estimator=RandomForestRegressor(random_state=0),\n",
       "                   n_iter=100, n_jobs=-1,\n",
       "                   param_distributions={&#x27;max_depth&#x27;: &lt;scipy.stats._distn_infrastructure.rv_discrete_frozen object at 0x7f3217280e20&gt;,\n",
       "                                        &#x27;max_features&#x27;: &lt;scipy.stats._distn_infrastructure.rv_discrete_frozen object at 0x7f3217281300&gt;,\n",
       "                                        &#x27;n_estimators&#x27;: &lt;scipy.stats._distn_infrastructure.rv_discrete_frozen object at 0x7f3217269cf0&gt;},\n",
       "                   random_state=10000, refit=False,\n",
       "                   scoring=&#x27;neg_mean_squared_error&#x27;, verbose=1)</pre></div></div></div><div class=\"sk-parallel\"><div class=\"sk-parallel-item\"><div class=\"sk-item\"><div class=\"sk-label-container\"><div class=\"sk-label sk-toggleable\"><input class=\"sk-toggleable__control sk-hidden--visually\" id=\"sk-estimator-id-166\" type=\"checkbox\" ><label for=\"sk-estimator-id-166\" class=\"sk-toggleable__label sk-toggleable__label-arrow\">estimator: RandomForestRegressor</label><div class=\"sk-toggleable__content\"><pre>RandomForestRegressor(random_state=0)</pre></div></div></div><div class=\"sk-serial\"><div class=\"sk-item\"><div class=\"sk-estimator sk-toggleable\"><input class=\"sk-toggleable__control sk-hidden--visually\" id=\"sk-estimator-id-167\" type=\"checkbox\" ><label for=\"sk-estimator-id-167\" class=\"sk-toggleable__label sk-toggleable__label-arrow\">RandomForestRegressor</label><div class=\"sk-toggleable__content\"><pre>RandomForestRegressor(random_state=0)</pre></div></div></div></div></div></div></div></div></div></div></div></div>"
      ],
      "text/plain": [
       "Pipeline(steps=[('rand_search',\n",
       "                 RandomizedSearchCV(cv=5,\n",
       "                                    estimator=RandomForestRegressor(random_state=0),\n",
       "                                    n_iter=100, n_jobs=-1,\n",
       "                                    param_distributions={'max_depth': <scipy.stats._distn_infrastructure.rv_discrete_frozen object at 0x7f3217280e20>,\n",
       "                                                         'max_features': <scipy.stats._distn_infrastructure.rv_discrete_frozen object at 0x7f3217281300>,\n",
       "                                                         'n_estimators': <scipy.stats._distn_infrastructure.rv_discrete_frozen object at 0x7f3217269cf0>},\n",
       "                                    random_state=10000, refit=False,\n",
       "                                    scoring='neg_mean_squared_error',\n",
       "                                    verbose=1))])"
      ]
     },
     "execution_count": 470,
     "metadata": {},
     "output_type": "execute_result"
    }
   ],
   "source": [
    "# Cria o pipeline\n",
    "# ===========================================\n",
    "from sklearn.pipeline import Pipeline\n",
    "\n",
    "# modelo de regressão\n",
    "rand_forest= RandomForestRegressor(random_state=0,\n",
    "                                   max_samples=None,\n",
    "                                   bootstrap=True,)\n",
    "\n",
    "# espaço de hiperparametros\n",
    "param_grid = dict(\n",
    "    max_depth=stats.randint(14, 18),\n",
    "    max_features=stats.randint(2, 6),\n",
    "    n_estimators=stats.randint(30, 50),\n",
    "    )\n",
    "\n",
    "\n",
    "# treina o modelo\n",
    "search_pipe= Pipeline([    \n",
    "    ('rand_search', RandomizedSearchCV(rand_forest,\n",
    "                            param_grid,\n",
    "                            scoring='neg_mean_squared_error',\n",
    "                            cv=5,\n",
    "                            n_iter = 100,        #numero de pontos no espaço de hiperp. testados\n",
    "                            random_state=10000,  #semente pra gerador de num. alat.\n",
    "                            n_jobs=-1,           #número de CPU's usados em paralelo\n",
    "                            verbose=1,\n",
    "                            refit=False))\n",
    "    ])\n",
    "\n",
    "# fita\n",
    "search_pipe.fit(X_train, y_train)\n"
   ]
  },
  {
   "cell_type": "code",
   "execution_count": 15,
   "id": "7616913b",
   "metadata": {
    "scrolled": true
   },
   "outputs": [
    {
     "name": "stdout",
     "output_type": "stream",
     "text": [
      "Fitting 5 folds for each of 100 candidates, totalling 500 fits\n"
     ]
    },
    {
     "data": {
      "text/html": [
       "<style>#sk-container-id-1 {color: black;background-color: white;}#sk-container-id-1 pre{padding: 0;}#sk-container-id-1 div.sk-toggleable {background-color: white;}#sk-container-id-1 label.sk-toggleable__label {cursor: pointer;display: block;width: 100%;margin-bottom: 0;padding: 0.3em;box-sizing: border-box;text-align: center;}#sk-container-id-1 label.sk-toggleable__label-arrow:before {content: \"▸\";float: left;margin-right: 0.25em;color: #696969;}#sk-container-id-1 label.sk-toggleable__label-arrow:hover:before {color: black;}#sk-container-id-1 div.sk-estimator:hover label.sk-toggleable__label-arrow:before {color: black;}#sk-container-id-1 div.sk-toggleable__content {max-height: 0;max-width: 0;overflow: hidden;text-align: left;background-color: #f0f8ff;}#sk-container-id-1 div.sk-toggleable__content pre {margin: 0.2em;color: black;border-radius: 0.25em;background-color: #f0f8ff;}#sk-container-id-1 input.sk-toggleable__control:checked~div.sk-toggleable__content {max-height: 200px;max-width: 100%;overflow: auto;}#sk-container-id-1 input.sk-toggleable__control:checked~label.sk-toggleable__label-arrow:before {content: \"▾\";}#sk-container-id-1 div.sk-estimator input.sk-toggleable__control:checked~label.sk-toggleable__label {background-color: #d4ebff;}#sk-container-id-1 div.sk-label input.sk-toggleable__control:checked~label.sk-toggleable__label {background-color: #d4ebff;}#sk-container-id-1 input.sk-hidden--visually {border: 0;clip: rect(1px 1px 1px 1px);clip: rect(1px, 1px, 1px, 1px);height: 1px;margin: -1px;overflow: hidden;padding: 0;position: absolute;width: 1px;}#sk-container-id-1 div.sk-estimator {font-family: monospace;background-color: #f0f8ff;border: 1px dotted black;border-radius: 0.25em;box-sizing: border-box;margin-bottom: 0.5em;}#sk-container-id-1 div.sk-estimator:hover {background-color: #d4ebff;}#sk-container-id-1 div.sk-parallel-item::after {content: \"\";width: 100%;border-bottom: 1px solid gray;flex-grow: 1;}#sk-container-id-1 div.sk-label:hover label.sk-toggleable__label {background-color: #d4ebff;}#sk-container-id-1 div.sk-serial::before {content: \"\";position: absolute;border-left: 1px solid gray;box-sizing: border-box;top: 0;bottom: 0;left: 50%;z-index: 0;}#sk-container-id-1 div.sk-serial {display: flex;flex-direction: column;align-items: center;background-color: white;padding-right: 0.2em;padding-left: 0.2em;position: relative;}#sk-container-id-1 div.sk-item {position: relative;z-index: 1;}#sk-container-id-1 div.sk-parallel {display: flex;align-items: stretch;justify-content: center;background-color: white;position: relative;}#sk-container-id-1 div.sk-item::before, #sk-container-id-1 div.sk-parallel-item::before {content: \"\";position: absolute;border-left: 1px solid gray;box-sizing: border-box;top: 0;bottom: 0;left: 50%;z-index: -1;}#sk-container-id-1 div.sk-parallel-item {display: flex;flex-direction: column;z-index: 1;position: relative;background-color: white;}#sk-container-id-1 div.sk-parallel-item:first-child::after {align-self: flex-end;width: 50%;}#sk-container-id-1 div.sk-parallel-item:last-child::after {align-self: flex-start;width: 50%;}#sk-container-id-1 div.sk-parallel-item:only-child::after {width: 0;}#sk-container-id-1 div.sk-dashed-wrapped {border: 1px dashed gray;margin: 0 0.4em 0.5em 0.4em;box-sizing: border-box;padding-bottom: 0.4em;background-color: white;}#sk-container-id-1 div.sk-label label {font-family: monospace;font-weight: bold;display: inline-block;line-height: 1.2em;}#sk-container-id-1 div.sk-label-container {text-align: center;}#sk-container-id-1 div.sk-container {/* jupyter's `normalize.less` sets `[hidden] { display: none; }` but bootstrap.min.css set `[hidden] { display: none !important; }` so we also need the `!important` here to be able to override the default hidden behavior on the sphinx rendered scikit-learn.org. See: https://github.com/scikit-learn/scikit-learn/issues/21755 */display: inline-block !important;position: relative;}#sk-container-id-1 div.sk-text-repr-fallback {display: none;}</style><div id=\"sk-container-id-1\" class=\"sk-top-container\"><div class=\"sk-text-repr-fallback\"><pre>RandomizedSearchCV(cv=5, estimator=RandomForestRegressor(random_state=0),\n",
       "                   n_iter=100, n_jobs=-1,\n",
       "                   param_distributions={&#x27;max_depth&#x27;: &lt;scipy.stats._distn_infrastructure.rv_discrete_frozen object at 0x7f321e5872e0&gt;,\n",
       "                                        &#x27;max_features&#x27;: &lt;scipy.stats._distn_infrastructure.rv_discrete_frozen object at 0x7f322f3be9b0&gt;,\n",
       "                                        &#x27;n_estimators&#x27;: &lt;scipy.stats._distn_infrastructure.rv_discrete_frozen object at 0x7f321e712e90&gt;},\n",
       "                   random_state=10000, refit=False,\n",
       "                   scoring=&#x27;neg_mean_squared_error&#x27;, verbose=1)</pre><b>In a Jupyter environment, please rerun this cell to show the HTML representation or trust the notebook. <br />On GitHub, the HTML representation is unable to render, please try loading this page with nbviewer.org.</b></div><div class=\"sk-container\" hidden><div class=\"sk-item sk-dashed-wrapped\"><div class=\"sk-label-container\"><div class=\"sk-label sk-toggleable\"><input class=\"sk-toggleable__control sk-hidden--visually\" id=\"sk-estimator-id-1\" type=\"checkbox\" ><label for=\"sk-estimator-id-1\" class=\"sk-toggleable__label sk-toggleable__label-arrow\">RandomizedSearchCV</label><div class=\"sk-toggleable__content\"><pre>RandomizedSearchCV(cv=5, estimator=RandomForestRegressor(random_state=0),\n",
       "                   n_iter=100, n_jobs=-1,\n",
       "                   param_distributions={&#x27;max_depth&#x27;: &lt;scipy.stats._distn_infrastructure.rv_discrete_frozen object at 0x7f321e5872e0&gt;,\n",
       "                                        &#x27;max_features&#x27;: &lt;scipy.stats._distn_infrastructure.rv_discrete_frozen object at 0x7f322f3be9b0&gt;,\n",
       "                                        &#x27;n_estimators&#x27;: &lt;scipy.stats._distn_infrastructure.rv_discrete_frozen object at 0x7f321e712e90&gt;},\n",
       "                   random_state=10000, refit=False,\n",
       "                   scoring=&#x27;neg_mean_squared_error&#x27;, verbose=1)</pre></div></div></div><div class=\"sk-parallel\"><div class=\"sk-parallel-item\"><div class=\"sk-item\"><div class=\"sk-label-container\"><div class=\"sk-label sk-toggleable\"><input class=\"sk-toggleable__control sk-hidden--visually\" id=\"sk-estimator-id-2\" type=\"checkbox\" ><label for=\"sk-estimator-id-2\" class=\"sk-toggleable__label sk-toggleable__label-arrow\">estimator: RandomForestRegressor</label><div class=\"sk-toggleable__content\"><pre>RandomForestRegressor(random_state=0)</pre></div></div></div><div class=\"sk-serial\"><div class=\"sk-item\"><div class=\"sk-estimator sk-toggleable\"><input class=\"sk-toggleable__control sk-hidden--visually\" id=\"sk-estimator-id-3\" type=\"checkbox\" ><label for=\"sk-estimator-id-3\" class=\"sk-toggleable__label sk-toggleable__label-arrow\">RandomForestRegressor</label><div class=\"sk-toggleable__content\"><pre>RandomForestRegressor(random_state=0)</pre></div></div></div></div></div></div></div></div></div></div>"
      ],
      "text/plain": [
       "RandomizedSearchCV(cv=5, estimator=RandomForestRegressor(random_state=0),\n",
       "                   n_iter=100, n_jobs=-1,\n",
       "                   param_distributions={'max_depth': <scipy.stats._distn_infrastructure.rv_discrete_frozen object at 0x7f321e5872e0>,\n",
       "                                        'max_features': <scipy.stats._distn_infrastructure.rv_discrete_frozen object at 0x7f322f3be9b0>,\n",
       "                                        'n_estimators': <scipy.stats._distn_infrastructure.rv_discrete_frozen object at 0x7f321e712e90>},\n",
       "                   random_state=10000, refit=False,\n",
       "                   scoring='neg_mean_squared_error', verbose=1)"
      ]
     },
     "execution_count": 15,
     "metadata": {},
     "output_type": "execute_result"
    }
   ],
   "source": [
    "# -------- Como era sem o pipeline -------\n",
    "\n",
    "#instancia do modelo\n",
    "rand_forest= RandomForestRegressor(random_state=0,\n",
    "                                   max_samples=None,\n",
    "                                   bootstrap=True,)\n",
    "\n",
    "# espaço de hiperparametros\n",
    "param_grid = dict(\n",
    "    max_depth=stats.randint(14, 18),\n",
    "    max_features=stats.randint(2, 6),\n",
    "    n_estimators=stats.randint(30, 50),\n",
    "    )\n",
    "\n",
    "#Define parâmetros da busca a busca\n",
    "search = RandomizedSearchCV(rand_forest,\n",
    "                            param_grid,\n",
    "                            scoring='neg_mean_squared_error',\n",
    "                            cv=5,\n",
    "                            n_iter = 100,        #numero de pontos no espaço de hiperp. testados\n",
    "                            random_state=10000,  #semente pra gerador de num. alat.\n",
    "                            n_jobs=-1,           #número de CPU's usados em paralelo\n",
    "                            verbose=1,\n",
    "                            refit=False)\n",
    "# fita\n",
    "search.fit(X_train, y_train)\n"
   ]
  },
  {
   "cell_type": "code",
   "execution_count": 472,
   "id": "f6eebba7",
   "metadata": {},
   "outputs": [],
   "source": [
    "# salva o modelo\n",
    "t=joblib.dump(search_pipe, path_modelos/\"random_forest.joblib\")"
   ]
  },
  {
   "cell_type": "markdown",
   "id": "5fcc18b7",
   "metadata": {},
   "source": [
    "## 4.2 - XG boost <a id=\"xgboost\">\n",
    "[Índice](#ind)"
   ]
  },
  {
   "cell_type": "code",
   "execution_count": 473,
   "id": "c558ba2a",
   "metadata": {},
   "outputs": [
    {
     "name": "stdout",
     "output_type": "stream",
     "text": [
      "Once deleted, variables cannot be recovered. Proceed (y/[n])? y\n"
     ]
    }
   ],
   "source": [
    "%reset"
   ]
  },
  {
   "cell_type": "code",
   "execution_count": 481,
   "id": "44120654",
   "metadata": {},
   "outputs": [
    {
     "name": "stdout",
     "output_type": "stream",
     "text": [
      "Fitting 5 folds for each of 100 candidates, totalling 500 fits\n"
     ]
    },
    {
     "data": {
      "text/html": [
       "<style>#sk-container-id-72 {color: black;background-color: white;}#sk-container-id-72 pre{padding: 0;}#sk-container-id-72 div.sk-toggleable {background-color: white;}#sk-container-id-72 label.sk-toggleable__label {cursor: pointer;display: block;width: 100%;margin-bottom: 0;padding: 0.3em;box-sizing: border-box;text-align: center;}#sk-container-id-72 label.sk-toggleable__label-arrow:before {content: \"▸\";float: left;margin-right: 0.25em;color: #696969;}#sk-container-id-72 label.sk-toggleable__label-arrow:hover:before {color: black;}#sk-container-id-72 div.sk-estimator:hover label.sk-toggleable__label-arrow:before {color: black;}#sk-container-id-72 div.sk-toggleable__content {max-height: 0;max-width: 0;overflow: hidden;text-align: left;background-color: #f0f8ff;}#sk-container-id-72 div.sk-toggleable__content pre {margin: 0.2em;color: black;border-radius: 0.25em;background-color: #f0f8ff;}#sk-container-id-72 input.sk-toggleable__control:checked~div.sk-toggleable__content {max-height: 200px;max-width: 100%;overflow: auto;}#sk-container-id-72 input.sk-toggleable__control:checked~label.sk-toggleable__label-arrow:before {content: \"▾\";}#sk-container-id-72 div.sk-estimator input.sk-toggleable__control:checked~label.sk-toggleable__label {background-color: #d4ebff;}#sk-container-id-72 div.sk-label input.sk-toggleable__control:checked~label.sk-toggleable__label {background-color: #d4ebff;}#sk-container-id-72 input.sk-hidden--visually {border: 0;clip: rect(1px 1px 1px 1px);clip: rect(1px, 1px, 1px, 1px);height: 1px;margin: -1px;overflow: hidden;padding: 0;position: absolute;width: 1px;}#sk-container-id-72 div.sk-estimator {font-family: monospace;background-color: #f0f8ff;border: 1px dotted black;border-radius: 0.25em;box-sizing: border-box;margin-bottom: 0.5em;}#sk-container-id-72 div.sk-estimator:hover {background-color: #d4ebff;}#sk-container-id-72 div.sk-parallel-item::after {content: \"\";width: 100%;border-bottom: 1px solid gray;flex-grow: 1;}#sk-container-id-72 div.sk-label:hover label.sk-toggleable__label {background-color: #d4ebff;}#sk-container-id-72 div.sk-serial::before {content: \"\";position: absolute;border-left: 1px solid gray;box-sizing: border-box;top: 0;bottom: 0;left: 50%;z-index: 0;}#sk-container-id-72 div.sk-serial {display: flex;flex-direction: column;align-items: center;background-color: white;padding-right: 0.2em;padding-left: 0.2em;position: relative;}#sk-container-id-72 div.sk-item {position: relative;z-index: 1;}#sk-container-id-72 div.sk-parallel {display: flex;align-items: stretch;justify-content: center;background-color: white;position: relative;}#sk-container-id-72 div.sk-item::before, #sk-container-id-72 div.sk-parallel-item::before {content: \"\";position: absolute;border-left: 1px solid gray;box-sizing: border-box;top: 0;bottom: 0;left: 50%;z-index: -1;}#sk-container-id-72 div.sk-parallel-item {display: flex;flex-direction: column;z-index: 1;position: relative;background-color: white;}#sk-container-id-72 div.sk-parallel-item:first-child::after {align-self: flex-end;width: 50%;}#sk-container-id-72 div.sk-parallel-item:last-child::after {align-self: flex-start;width: 50%;}#sk-container-id-72 div.sk-parallel-item:only-child::after {width: 0;}#sk-container-id-72 div.sk-dashed-wrapped {border: 1px dashed gray;margin: 0 0.4em 0.5em 0.4em;box-sizing: border-box;padding-bottom: 0.4em;background-color: white;}#sk-container-id-72 div.sk-label label {font-family: monospace;font-weight: bold;display: inline-block;line-height: 1.2em;}#sk-container-id-72 div.sk-label-container {text-align: center;}#sk-container-id-72 div.sk-container {/* jupyter's `normalize.less` sets `[hidden] { display: none; }` but bootstrap.min.css set `[hidden] { display: none !important; }` so we also need the `!important` here to be able to override the default hidden behavior on the sphinx rendered scikit-learn.org. See: https://github.com/scikit-learn/scikit-learn/issues/21755 */display: inline-block !important;position: relative;}#sk-container-id-72 div.sk-text-repr-fallback {display: none;}</style><div id=\"sk-container-id-72\" class=\"sk-top-container\"><div class=\"sk-text-repr-fallback\"><pre>Pipeline(steps=[(&#x27;rand_search&#x27;,\n",
       "                 RandomizedSearchCV(cv=5,\n",
       "                                    estimator=XGBRegressor(base_score=None,\n",
       "                                                           booster=None,\n",
       "                                                           callbacks=None,\n",
       "                                                           colsample_bylevel=None,\n",
       "                                                           colsample_bynode=None,\n",
       "                                                           colsample_bytree=None,\n",
       "                                                           early_stopping_rounds=None,\n",
       "                                                           enable_categorical=False,\n",
       "                                                           eval_metric=None,\n",
       "                                                           feature_types=None,\n",
       "                                                           gamma=None,\n",
       "                                                           gpu_id=None,\n",
       "                                                           grow_policy=None,\n",
       "                                                           importance_type=None,\n",
       "                                                           interaction_...\n",
       "                                                         &#x27;colsample_bytree&#x27;: &lt;scipy.stats._distn_infrastructure.rv_continuous_frozen object at 0x7f321e90be80&gt;,\n",
       "                                                         &#x27;learning_rate&#x27;: &lt;scipy.stats._distn_infrastructure.rv_continuous_frozen object at 0x7f32394d7e20&gt;,\n",
       "                                                         &#x27;max_bin&#x27;: [255, 256,\n",
       "                                                                     257],\n",
       "                                                         &#x27;max_depth&#x27;: range(2, 12),\n",
       "                                                         &#x27;max_leaves&#x27;: [1, 2,\n",
       "                                                                        3],\n",
       "                                                         &#x27;n_estimators&#x27;: range(10, 50)},\n",
       "                                    random_state=1000, refit=False,\n",
       "                                    scoring=&#x27;neg_mean_squared_error&#x27;,\n",
       "                                    verbose=1))])</pre><b>In a Jupyter environment, please rerun this cell to show the HTML representation or trust the notebook. <br />On GitHub, the HTML representation is unable to render, please try loading this page with nbviewer.org.</b></div><div class=\"sk-container\" hidden><div class=\"sk-item sk-dashed-wrapped\"><div class=\"sk-label-container\"><div class=\"sk-label sk-toggleable\"><input class=\"sk-toggleable__control sk-hidden--visually\" id=\"sk-estimator-id-168\" type=\"checkbox\" ><label for=\"sk-estimator-id-168\" class=\"sk-toggleable__label sk-toggleable__label-arrow\">Pipeline</label><div class=\"sk-toggleable__content\"><pre>Pipeline(steps=[(&#x27;rand_search&#x27;,\n",
       "                 RandomizedSearchCV(cv=5,\n",
       "                                    estimator=XGBRegressor(base_score=None,\n",
       "                                                           booster=None,\n",
       "                                                           callbacks=None,\n",
       "                                                           colsample_bylevel=None,\n",
       "                                                           colsample_bynode=None,\n",
       "                                                           colsample_bytree=None,\n",
       "                                                           early_stopping_rounds=None,\n",
       "                                                           enable_categorical=False,\n",
       "                                                           eval_metric=None,\n",
       "                                                           feature_types=None,\n",
       "                                                           gamma=None,\n",
       "                                                           gpu_id=None,\n",
       "                                                           grow_policy=None,\n",
       "                                                           importance_type=None,\n",
       "                                                           interaction_...\n",
       "                                                         &#x27;colsample_bytree&#x27;: &lt;scipy.stats._distn_infrastructure.rv_continuous_frozen object at 0x7f321e90be80&gt;,\n",
       "                                                         &#x27;learning_rate&#x27;: &lt;scipy.stats._distn_infrastructure.rv_continuous_frozen object at 0x7f32394d7e20&gt;,\n",
       "                                                         &#x27;max_bin&#x27;: [255, 256,\n",
       "                                                                     257],\n",
       "                                                         &#x27;max_depth&#x27;: range(2, 12),\n",
       "                                                         &#x27;max_leaves&#x27;: [1, 2,\n",
       "                                                                        3],\n",
       "                                                         &#x27;n_estimators&#x27;: range(10, 50)},\n",
       "                                    random_state=1000, refit=False,\n",
       "                                    scoring=&#x27;neg_mean_squared_error&#x27;,\n",
       "                                    verbose=1))])</pre></div></div></div><div class=\"sk-serial\"><div class=\"sk-item sk-dashed-wrapped\"><div class=\"sk-label-container\"><div class=\"sk-label sk-toggleable\"><input class=\"sk-toggleable__control sk-hidden--visually\" id=\"sk-estimator-id-169\" type=\"checkbox\" ><label for=\"sk-estimator-id-169\" class=\"sk-toggleable__label sk-toggleable__label-arrow\">rand_search: RandomizedSearchCV</label><div class=\"sk-toggleable__content\"><pre>RandomizedSearchCV(cv=5,\n",
       "                   estimator=XGBRegressor(base_score=None, booster=None,\n",
       "                                          callbacks=None,\n",
       "                                          colsample_bylevel=None,\n",
       "                                          colsample_bynode=None,\n",
       "                                          colsample_bytree=None,\n",
       "                                          early_stopping_rounds=None,\n",
       "                                          enable_categorical=False,\n",
       "                                          eval_metric=None, feature_types=None,\n",
       "                                          gamma=None, gpu_id=None,\n",
       "                                          grow_policy=None,\n",
       "                                          importance_type=None,\n",
       "                                          interaction_constraints=None,\n",
       "                                          learning_rate=...\n",
       "                                        &#x27;colsample_bytree&#x27;: &lt;scipy.stats._distn_infrastructure.rv_continuous_frozen object at 0x7f321e90be80&gt;,\n",
       "                                        &#x27;learning_rate&#x27;: &lt;scipy.stats._distn_infrastructure.rv_continuous_frozen object at 0x7f32394d7e20&gt;,\n",
       "                                        &#x27;max_bin&#x27;: [255, 256, 257],\n",
       "                                        &#x27;max_depth&#x27;: range(2, 12),\n",
       "                                        &#x27;max_leaves&#x27;: [1, 2, 3],\n",
       "                                        &#x27;n_estimators&#x27;: range(10, 50)},\n",
       "                   random_state=1000, refit=False,\n",
       "                   scoring=&#x27;neg_mean_squared_error&#x27;, verbose=1)</pre></div></div></div><div class=\"sk-parallel\"><div class=\"sk-parallel-item\"><div class=\"sk-item\"><div class=\"sk-label-container\"><div class=\"sk-label sk-toggleable\"><input class=\"sk-toggleable__control sk-hidden--visually\" id=\"sk-estimator-id-170\" type=\"checkbox\" ><label for=\"sk-estimator-id-170\" class=\"sk-toggleable__label sk-toggleable__label-arrow\">estimator: XGBRegressor</label><div class=\"sk-toggleable__content\"><pre>XGBRegressor(base_score=None, booster=None, callbacks=None,\n",
       "             colsample_bylevel=None, colsample_bynode=None,\n",
       "             colsample_bytree=None, early_stopping_rounds=None,\n",
       "             enable_categorical=False, eval_metric=None, feature_types=None,\n",
       "             gamma=None, gpu_id=None, grow_policy=None, importance_type=None,\n",
       "             interaction_constraints=None, learning_rate=None, max_bin=None,\n",
       "             max_cat_threshold=None, max_cat_to_onehot=None,\n",
       "             max_delta_step=None, max_depth=None, max_leaves=None,\n",
       "             min_child_weight=None, missing=nan, monotone_constraints=None,\n",
       "             n_estimators=100, n_jobs=None, num_parallel_tree=None,\n",
       "             predictor=None, random_state=None, ...)</pre></div></div></div><div class=\"sk-serial\"><div class=\"sk-item\"><div class=\"sk-estimator sk-toggleable\"><input class=\"sk-toggleable__control sk-hidden--visually\" id=\"sk-estimator-id-171\" type=\"checkbox\" ><label for=\"sk-estimator-id-171\" class=\"sk-toggleable__label sk-toggleable__label-arrow\">XGBRegressor</label><div class=\"sk-toggleable__content\"><pre>XGBRegressor(base_score=None, booster=None, callbacks=None,\n",
       "             colsample_bylevel=None, colsample_bynode=None,\n",
       "             colsample_bytree=None, early_stopping_rounds=None,\n",
       "             enable_categorical=False, eval_metric=None, feature_types=None,\n",
       "             gamma=None, gpu_id=None, grow_policy=None, importance_type=None,\n",
       "             interaction_constraints=None, learning_rate=None, max_bin=None,\n",
       "             max_cat_threshold=None, max_cat_to_onehot=None,\n",
       "             max_delta_step=None, max_depth=None, max_leaves=None,\n",
       "             min_child_weight=None, missing=nan, monotone_constraints=None,\n",
       "             n_estimators=100, n_jobs=None, num_parallel_tree=None,\n",
       "             predictor=None, random_state=None, ...)</pre></div></div></div></div></div></div></div></div></div></div></div></div>"
      ],
      "text/plain": [
       "Pipeline(steps=[('rand_search',\n",
       "                 RandomizedSearchCV(cv=5,\n",
       "                                    estimator=XGBRegressor(base_score=None,\n",
       "                                                           booster=None,\n",
       "                                                           callbacks=None,\n",
       "                                                           colsample_bylevel=None,\n",
       "                                                           colsample_bynode=None,\n",
       "                                                           colsample_bytree=None,\n",
       "                                                           early_stopping_rounds=None,\n",
       "                                                           enable_categorical=False,\n",
       "                                                           eval_metric=None,\n",
       "                                                           feature_types=None,\n",
       "                                                           gamma=None,\n",
       "                                                           gpu_id=None,\n",
       "                                                           grow_policy=None,\n",
       "                                                           importance_type=None,\n",
       "                                                           interaction_...\n",
       "                                                         'colsample_bytree': <scipy.stats._distn_infrastructure.rv_continuous_frozen object at 0x7f321e90be80>,\n",
       "                                                         'learning_rate': <scipy.stats._distn_infrastructure.rv_continuous_frozen object at 0x7f32394d7e20>,\n",
       "                                                         'max_bin': [255, 256,\n",
       "                                                                     257],\n",
       "                                                         'max_depth': range(2, 12),\n",
       "                                                         'max_leaves': [1, 2,\n",
       "                                                                        3],\n",
       "                                                         'n_estimators': range(10, 50)},\n",
       "                                    random_state=1000, refit=False,\n",
       "                                    scoring='neg_mean_squared_error',\n",
       "                                    verbose=1))])"
      ]
     },
     "execution_count": 481,
     "metadata": {},
     "output_type": "execute_result"
    }
   ],
   "source": [
    "gbm_param_grid = {    \n",
    "    'max_depth': range(2, 12),\n",
    "    'n_estimators': range(10,50),\n",
    "    'colsample_bytree': stats.uniform(0.3, 0.7),\n",
    "    'learning_rate':stats.uniform(0.2, 0.6),    \n",
    "    'max_leaves':[1,2,3],\n",
    "    'max_bin': [255,256,257],\n",
    "    'base_score': stats.uniform(0.2,0.7)\n",
    "}\n",
    "\n",
    "# Instancio o regressor gbm\n",
    "gbm = xgb.XGBRegressor()\n",
    "\n",
    "# treina o modelo\n",
    "search_pipe= Pipeline([    \n",
    "    ('rand_search', RandomizedSearchCV(gbm,\n",
    "                            gbm_param_grid,\n",
    "                            scoring='neg_mean_squared_error',\n",
    "                            cv=5,\n",
    "                            n_iter = 100,        #numero de pontos no espaço de hiperp. testados\n",
    "                            random_state=1000,  #semente pra gerador de num. alat.\n",
    "                            n_jobs=-1,           #número de CPU's usados em paralelo\n",
    "                            verbose=1,\n",
    "                            refit=False))\n",
    "    ])\n",
    "\n",
    "# fita\n",
    "search_pipe.fit(X_train, y_train)\n"
   ]
  },
  {
   "cell_type": "code",
   "execution_count": 482,
   "id": "57db527c",
   "metadata": {},
   "outputs": [],
   "source": [
    "# salva o modelo\n",
    "t=joblib.dump(search_pipe, path_modelos/\"XGBoost.joblib\")"
   ]
  },
  {
   "cell_type": "markdown",
   "id": "e6152dfe",
   "metadata": {},
   "source": [
    "## 4.3 - Random forrest com clusterização (k=2)<a id=\"rf_clus_2\"></a>\n",
    "[Índice](#ind)"
   ]
  },
  {
   "cell_type": "code",
   "execution_count": 5,
   "id": "cca3edf5",
   "metadata": {},
   "outputs": [
    {
     "name": "stdout",
     "output_type": "stream",
     "text": [
      "Once deleted, variables cannot be recovered. Proceed (y/[n])? y\n"
     ]
    }
   ],
   "source": [
    "%reset"
   ]
  },
  {
   "cell_type": "code",
   "execution_count": 14,
   "id": "19a3054b",
   "metadata": {},
   "outputs": [
    {
     "name": "stdout",
     "output_type": "stream",
     "text": [
      "Fitting 5 folds for each of 100 candidates, totalling 500 fits\n"
     ]
    },
    {
     "data": {
      "text/html": [
       "<style>#sk-container-id-1 {color: black;background-color: white;}#sk-container-id-1 pre{padding: 0;}#sk-container-id-1 div.sk-toggleable {background-color: white;}#sk-container-id-1 label.sk-toggleable__label {cursor: pointer;display: block;width: 100%;margin-bottom: 0;padding: 0.3em;box-sizing: border-box;text-align: center;}#sk-container-id-1 label.sk-toggleable__label-arrow:before {content: \"▸\";float: left;margin-right: 0.25em;color: #696969;}#sk-container-id-1 label.sk-toggleable__label-arrow:hover:before {color: black;}#sk-container-id-1 div.sk-estimator:hover label.sk-toggleable__label-arrow:before {color: black;}#sk-container-id-1 div.sk-toggleable__content {max-height: 0;max-width: 0;overflow: hidden;text-align: left;background-color: #f0f8ff;}#sk-container-id-1 div.sk-toggleable__content pre {margin: 0.2em;color: black;border-radius: 0.25em;background-color: #f0f8ff;}#sk-container-id-1 input.sk-toggleable__control:checked~div.sk-toggleable__content {max-height: 200px;max-width: 100%;overflow: auto;}#sk-container-id-1 input.sk-toggleable__control:checked~label.sk-toggleable__label-arrow:before {content: \"▾\";}#sk-container-id-1 div.sk-estimator input.sk-toggleable__control:checked~label.sk-toggleable__label {background-color: #d4ebff;}#sk-container-id-1 div.sk-label input.sk-toggleable__control:checked~label.sk-toggleable__label {background-color: #d4ebff;}#sk-container-id-1 input.sk-hidden--visually {border: 0;clip: rect(1px 1px 1px 1px);clip: rect(1px, 1px, 1px, 1px);height: 1px;margin: -1px;overflow: hidden;padding: 0;position: absolute;width: 1px;}#sk-container-id-1 div.sk-estimator {font-family: monospace;background-color: #f0f8ff;border: 1px dotted black;border-radius: 0.25em;box-sizing: border-box;margin-bottom: 0.5em;}#sk-container-id-1 div.sk-estimator:hover {background-color: #d4ebff;}#sk-container-id-1 div.sk-parallel-item::after {content: \"\";width: 100%;border-bottom: 1px solid gray;flex-grow: 1;}#sk-container-id-1 div.sk-label:hover label.sk-toggleable__label {background-color: #d4ebff;}#sk-container-id-1 div.sk-serial::before {content: \"\";position: absolute;border-left: 1px solid gray;box-sizing: border-box;top: 0;bottom: 0;left: 50%;z-index: 0;}#sk-container-id-1 div.sk-serial {display: flex;flex-direction: column;align-items: center;background-color: white;padding-right: 0.2em;padding-left: 0.2em;position: relative;}#sk-container-id-1 div.sk-item {position: relative;z-index: 1;}#sk-container-id-1 div.sk-parallel {display: flex;align-items: stretch;justify-content: center;background-color: white;position: relative;}#sk-container-id-1 div.sk-item::before, #sk-container-id-1 div.sk-parallel-item::before {content: \"\";position: absolute;border-left: 1px solid gray;box-sizing: border-box;top: 0;bottom: 0;left: 50%;z-index: -1;}#sk-container-id-1 div.sk-parallel-item {display: flex;flex-direction: column;z-index: 1;position: relative;background-color: white;}#sk-container-id-1 div.sk-parallel-item:first-child::after {align-self: flex-end;width: 50%;}#sk-container-id-1 div.sk-parallel-item:last-child::after {align-self: flex-start;width: 50%;}#sk-container-id-1 div.sk-parallel-item:only-child::after {width: 0;}#sk-container-id-1 div.sk-dashed-wrapped {border: 1px dashed gray;margin: 0 0.4em 0.5em 0.4em;box-sizing: border-box;padding-bottom: 0.4em;background-color: white;}#sk-container-id-1 div.sk-label label {font-family: monospace;font-weight: bold;display: inline-block;line-height: 1.2em;}#sk-container-id-1 div.sk-label-container {text-align: center;}#sk-container-id-1 div.sk-container {/* jupyter's `normalize.less` sets `[hidden] { display: none; }` but bootstrap.min.css set `[hidden] { display: none !important; }` so we also need the `!important` here to be able to override the default hidden behavior on the sphinx rendered scikit-learn.org. See: https://github.com/scikit-learn/scikit-learn/issues/21755 */display: inline-block !important;position: relative;}#sk-container-id-1 div.sk-text-repr-fallback {display: none;}</style><div id=\"sk-container-id-1\" class=\"sk-top-container\"><div class=\"sk-text-repr-fallback\"><pre>Pipeline(steps=[(&#x27;kmeans_cluster&#x27;, AdicionaColClusters(k=2)),\n",
       "                (&#x27;rand_search&#x27;,\n",
       "                 RandomizedSearchCV(cv=5,\n",
       "                                    estimator=RandomForestRegressor(random_state=0),\n",
       "                                    n_iter=100, n_jobs=-1,\n",
       "                                    param_distributions={&#x27;max_depth&#x27;: &lt;scipy.stats._distn_infrastructure.rv_discrete_frozen object at 0x7fb821dcf310&gt;,\n",
       "                                                         &#x27;max_features&#x27;: &lt;scipy.stats._distn_infrastructure.rv_discrete_frozen object at 0x7fb83f6ca170&gt;,\n",
       "                                                         &#x27;n_estimators&#x27;: &lt;scipy.stats._distn_infrastructure.rv_discrete_frozen object at 0x7fb8215eb9d0&gt;},\n",
       "                                    random_state=10000, refit=False,\n",
       "                                    scoring=&#x27;neg_mean_squared_error&#x27;,\n",
       "                                    verbose=1))])</pre><b>In a Jupyter environment, please rerun this cell to show the HTML representation or trust the notebook. <br />On GitHub, the HTML representation is unable to render, please try loading this page with nbviewer.org.</b></div><div class=\"sk-container\" hidden><div class=\"sk-item sk-dashed-wrapped\"><div class=\"sk-label-container\"><div class=\"sk-label sk-toggleable\"><input class=\"sk-toggleable__control sk-hidden--visually\" id=\"sk-estimator-id-1\" type=\"checkbox\" ><label for=\"sk-estimator-id-1\" class=\"sk-toggleable__label sk-toggleable__label-arrow\">Pipeline</label><div class=\"sk-toggleable__content\"><pre>Pipeline(steps=[(&#x27;kmeans_cluster&#x27;, AdicionaColClusters(k=2)),\n",
       "                (&#x27;rand_search&#x27;,\n",
       "                 RandomizedSearchCV(cv=5,\n",
       "                                    estimator=RandomForestRegressor(random_state=0),\n",
       "                                    n_iter=100, n_jobs=-1,\n",
       "                                    param_distributions={&#x27;max_depth&#x27;: &lt;scipy.stats._distn_infrastructure.rv_discrete_frozen object at 0x7fb821dcf310&gt;,\n",
       "                                                         &#x27;max_features&#x27;: &lt;scipy.stats._distn_infrastructure.rv_discrete_frozen object at 0x7fb83f6ca170&gt;,\n",
       "                                                         &#x27;n_estimators&#x27;: &lt;scipy.stats._distn_infrastructure.rv_discrete_frozen object at 0x7fb8215eb9d0&gt;},\n",
       "                                    random_state=10000, refit=False,\n",
       "                                    scoring=&#x27;neg_mean_squared_error&#x27;,\n",
       "                                    verbose=1))])</pre></div></div></div><div class=\"sk-serial\"><div class=\"sk-item\"><div class=\"sk-estimator sk-toggleable\"><input class=\"sk-toggleable__control sk-hidden--visually\" id=\"sk-estimator-id-2\" type=\"checkbox\" ><label for=\"sk-estimator-id-2\" class=\"sk-toggleable__label sk-toggleable__label-arrow\">AdicionaColClusters</label><div class=\"sk-toggleable__content\"><pre>AdicionaColClusters(k=2)</pre></div></div></div><div class=\"sk-item sk-dashed-wrapped\"><div class=\"sk-label-container\"><div class=\"sk-label sk-toggleable\"><input class=\"sk-toggleable__control sk-hidden--visually\" id=\"sk-estimator-id-3\" type=\"checkbox\" ><label for=\"sk-estimator-id-3\" class=\"sk-toggleable__label sk-toggleable__label-arrow\">rand_search: RandomizedSearchCV</label><div class=\"sk-toggleable__content\"><pre>RandomizedSearchCV(cv=5, estimator=RandomForestRegressor(random_state=0),\n",
       "                   n_iter=100, n_jobs=-1,\n",
       "                   param_distributions={&#x27;max_depth&#x27;: &lt;scipy.stats._distn_infrastructure.rv_discrete_frozen object at 0x7fb821dcf310&gt;,\n",
       "                                        &#x27;max_features&#x27;: &lt;scipy.stats._distn_infrastructure.rv_discrete_frozen object at 0x7fb83f6ca170&gt;,\n",
       "                                        &#x27;n_estimators&#x27;: &lt;scipy.stats._distn_infrastructure.rv_discrete_frozen object at 0x7fb8215eb9d0&gt;},\n",
       "                   random_state=10000, refit=False,\n",
       "                   scoring=&#x27;neg_mean_squared_error&#x27;, verbose=1)</pre></div></div></div><div class=\"sk-parallel\"><div class=\"sk-parallel-item\"><div class=\"sk-item\"><div class=\"sk-label-container\"><div class=\"sk-label sk-toggleable\"><input class=\"sk-toggleable__control sk-hidden--visually\" id=\"sk-estimator-id-4\" type=\"checkbox\" ><label for=\"sk-estimator-id-4\" class=\"sk-toggleable__label sk-toggleable__label-arrow\">estimator: RandomForestRegressor</label><div class=\"sk-toggleable__content\"><pre>RandomForestRegressor(random_state=0)</pre></div></div></div><div class=\"sk-serial\"><div class=\"sk-item\"><div class=\"sk-estimator sk-toggleable\"><input class=\"sk-toggleable__control sk-hidden--visually\" id=\"sk-estimator-id-5\" type=\"checkbox\" ><label for=\"sk-estimator-id-5\" class=\"sk-toggleable__label sk-toggleable__label-arrow\">RandomForestRegressor</label><div class=\"sk-toggleable__content\"><pre>RandomForestRegressor(random_state=0)</pre></div></div></div></div></div></div></div></div></div></div></div></div>"
      ],
      "text/plain": [
       "Pipeline(steps=[('kmeans_cluster', AdicionaColClusters(k=2)),\n",
       "                ('rand_search',\n",
       "                 RandomizedSearchCV(cv=5,\n",
       "                                    estimator=RandomForestRegressor(random_state=0),\n",
       "                                    n_iter=100, n_jobs=-1,\n",
       "                                    param_distributions={'max_depth': <scipy.stats._distn_infrastructure.rv_discrete_frozen object at 0x7fb821dcf310>,\n",
       "                                                         'max_features': <scipy.stats._distn_infrastructure.rv_discrete_frozen object at 0x7fb83f6ca170>,\n",
       "                                                         'n_estimators': <scipy.stats._distn_infrastructure.rv_discrete_frozen object at 0x7fb8215eb9d0>},\n",
       "                                    random_state=10000, refit=False,\n",
       "                                    scoring='neg_mean_squared_error',\n",
       "                                    verbose=1))])"
      ]
     },
     "execution_count": 14,
     "metadata": {},
     "output_type": "execute_result"
    }
   ],
   "source": [
    "# Cria o pipeline\n",
    "# ========================================\n",
    "\n",
    "#número de clusters\n",
    "k=2\n",
    "\n",
    "# modelo de regressão\n",
    "rand_forest= RandomForestRegressor(random_state=0,\n",
    "                                   max_samples=None,\n",
    "                                   bootstrap=True,)\n",
    "\n",
    "# espaço de hiperparametros\n",
    "param_grid = dict(\n",
    "    max_depth=stats.randint(14, 18),\n",
    "    max_features=stats.randint(2, 6),\n",
    "    n_estimators=stats.randint(30, 50),\n",
    "    )\n",
    "\n",
    "\n",
    "# treina o modelo\n",
    "search_pipe= Pipeline([\n",
    "    ('kmeans_cluster', trans_ml.AdicionaColClusters(k, rand=1000)),\n",
    "    ('rand_search', RandomizedSearchCV(rand_forest,\n",
    "                            param_grid,\n",
    "                            scoring='neg_mean_squared_error',\n",
    "                            cv=5,\n",
    "                            n_iter = 100,        #numero de pontos no espaço de hiperp. testados\n",
    "                            random_state=10000,  #semente pra gerador de num. alat.\n",
    "                            n_jobs=-1,           #número de CPU's usados em paralelo\n",
    "                            verbose=1,\n",
    "                            refit=False))\n",
    "    ])\n",
    "\n",
    "# fita\n",
    "search_pipe.fit(X_train, y_train)"
   ]
  },
  {
   "cell_type": "code",
   "execution_count": 15,
   "id": "28336bc8",
   "metadata": {},
   "outputs": [],
   "source": [
    "# Salva o modelo\n",
    "# ========================\n",
    "t=joblib.dump(search_pipe, path_modelos/\"kmeans_2_randForest_.joblib\")"
   ]
  },
  {
   "cell_type": "markdown",
   "id": "d1a6699a",
   "metadata": {},
   "source": [
    "## 4.4 - XGBoost com clusterização (k=2)<a id=\"xg_clas_2\">\n",
    "[Índice](#ind)"
   ]
  },
  {
   "cell_type": "code",
   "execution_count": 16,
   "id": "e188d842",
   "metadata": {},
   "outputs": [
    {
     "name": "stdout",
     "output_type": "stream",
     "text": [
      "Once deleted, variables cannot be recovered. Proceed (y/[n])? y\n"
     ]
    }
   ],
   "source": [
    "%reset"
   ]
  },
  {
   "cell_type": "code",
   "execution_count": 22,
   "id": "df4b2d5f",
   "metadata": {},
   "outputs": [
    {
     "name": "stdout",
     "output_type": "stream",
     "text": [
      "Fitting 5 folds for each of 100 candidates, totalling 500 fits\n"
     ]
    },
    {
     "data": {
      "text/html": [
       "<style>#sk-container-id-2 {color: black;background-color: white;}#sk-container-id-2 pre{padding: 0;}#sk-container-id-2 div.sk-toggleable {background-color: white;}#sk-container-id-2 label.sk-toggleable__label {cursor: pointer;display: block;width: 100%;margin-bottom: 0;padding: 0.3em;box-sizing: border-box;text-align: center;}#sk-container-id-2 label.sk-toggleable__label-arrow:before {content: \"▸\";float: left;margin-right: 0.25em;color: #696969;}#sk-container-id-2 label.sk-toggleable__label-arrow:hover:before {color: black;}#sk-container-id-2 div.sk-estimator:hover label.sk-toggleable__label-arrow:before {color: black;}#sk-container-id-2 div.sk-toggleable__content {max-height: 0;max-width: 0;overflow: hidden;text-align: left;background-color: #f0f8ff;}#sk-container-id-2 div.sk-toggleable__content pre {margin: 0.2em;color: black;border-radius: 0.25em;background-color: #f0f8ff;}#sk-container-id-2 input.sk-toggleable__control:checked~div.sk-toggleable__content {max-height: 200px;max-width: 100%;overflow: auto;}#sk-container-id-2 input.sk-toggleable__control:checked~label.sk-toggleable__label-arrow:before {content: \"▾\";}#sk-container-id-2 div.sk-estimator input.sk-toggleable__control:checked~label.sk-toggleable__label {background-color: #d4ebff;}#sk-container-id-2 div.sk-label input.sk-toggleable__control:checked~label.sk-toggleable__label {background-color: #d4ebff;}#sk-container-id-2 input.sk-hidden--visually {border: 0;clip: rect(1px 1px 1px 1px);clip: rect(1px, 1px, 1px, 1px);height: 1px;margin: -1px;overflow: hidden;padding: 0;position: absolute;width: 1px;}#sk-container-id-2 div.sk-estimator {font-family: monospace;background-color: #f0f8ff;border: 1px dotted black;border-radius: 0.25em;box-sizing: border-box;margin-bottom: 0.5em;}#sk-container-id-2 div.sk-estimator:hover {background-color: #d4ebff;}#sk-container-id-2 div.sk-parallel-item::after {content: \"\";width: 100%;border-bottom: 1px solid gray;flex-grow: 1;}#sk-container-id-2 div.sk-label:hover label.sk-toggleable__label {background-color: #d4ebff;}#sk-container-id-2 div.sk-serial::before {content: \"\";position: absolute;border-left: 1px solid gray;box-sizing: border-box;top: 0;bottom: 0;left: 50%;z-index: 0;}#sk-container-id-2 div.sk-serial {display: flex;flex-direction: column;align-items: center;background-color: white;padding-right: 0.2em;padding-left: 0.2em;position: relative;}#sk-container-id-2 div.sk-item {position: relative;z-index: 1;}#sk-container-id-2 div.sk-parallel {display: flex;align-items: stretch;justify-content: center;background-color: white;position: relative;}#sk-container-id-2 div.sk-item::before, #sk-container-id-2 div.sk-parallel-item::before {content: \"\";position: absolute;border-left: 1px solid gray;box-sizing: border-box;top: 0;bottom: 0;left: 50%;z-index: -1;}#sk-container-id-2 div.sk-parallel-item {display: flex;flex-direction: column;z-index: 1;position: relative;background-color: white;}#sk-container-id-2 div.sk-parallel-item:first-child::after {align-self: flex-end;width: 50%;}#sk-container-id-2 div.sk-parallel-item:last-child::after {align-self: flex-start;width: 50%;}#sk-container-id-2 div.sk-parallel-item:only-child::after {width: 0;}#sk-container-id-2 div.sk-dashed-wrapped {border: 1px dashed gray;margin: 0 0.4em 0.5em 0.4em;box-sizing: border-box;padding-bottom: 0.4em;background-color: white;}#sk-container-id-2 div.sk-label label {font-family: monospace;font-weight: bold;display: inline-block;line-height: 1.2em;}#sk-container-id-2 div.sk-label-container {text-align: center;}#sk-container-id-2 div.sk-container {/* jupyter's `normalize.less` sets `[hidden] { display: none; }` but bootstrap.min.css set `[hidden] { display: none !important; }` so we also need the `!important` here to be able to override the default hidden behavior on the sphinx rendered scikit-learn.org. See: https://github.com/scikit-learn/scikit-learn/issues/21755 */display: inline-block !important;position: relative;}#sk-container-id-2 div.sk-text-repr-fallback {display: none;}</style><div id=\"sk-container-id-2\" class=\"sk-top-container\"><div class=\"sk-text-repr-fallback\"><pre>Pipeline(steps=[(&#x27;kmeans_cluster&#x27;, AdicionaColClusters(k=2)),\n",
       "                (&#x27;rand_search&#x27;,\n",
       "                 RandomizedSearchCV(cv=5,\n",
       "                                    estimator=XGBRegressor(base_score=None,\n",
       "                                                           booster=None,\n",
       "                                                           callbacks=None,\n",
       "                                                           colsample_bylevel=None,\n",
       "                                                           colsample_bynode=None,\n",
       "                                                           colsample_bytree=None,\n",
       "                                                           early_stopping_rounds=None,\n",
       "                                                           enable_categorical=False,\n",
       "                                                           eval_metric=None,\n",
       "                                                           feature_types=None,\n",
       "                                                           gamma=None,\n",
       "                                                           gpu_id=None,\n",
       "                                                           grow_p...\n",
       "                                                         &#x27;colsample_bytree&#x27;: &lt;scipy.stats._distn_infrastructure.rv_continuous_frozen object at 0x7fb8215e82e0&gt;,\n",
       "                                                         &#x27;learning_rate&#x27;: &lt;scipy.stats._distn_infrastructure.rv_continuous_frozen object at 0x7fb8218348e0&gt;,\n",
       "                                                         &#x27;max_bin&#x27;: [255, 256,\n",
       "                                                                     257],\n",
       "                                                         &#x27;max_depth&#x27;: range(2, 12),\n",
       "                                                         &#x27;max_leaves&#x27;: [1, 2,\n",
       "                                                                        3],\n",
       "                                                         &#x27;n_estimators&#x27;: range(10, 50)},\n",
       "                                    random_state=1000, refit=False,\n",
       "                                    scoring=&#x27;neg_mean_squared_error&#x27;,\n",
       "                                    verbose=1))])</pre><b>In a Jupyter environment, please rerun this cell to show the HTML representation or trust the notebook. <br />On GitHub, the HTML representation is unable to render, please try loading this page with nbviewer.org.</b></div><div class=\"sk-container\" hidden><div class=\"sk-item sk-dashed-wrapped\"><div class=\"sk-label-container\"><div class=\"sk-label sk-toggleable\"><input class=\"sk-toggleable__control sk-hidden--visually\" id=\"sk-estimator-id-6\" type=\"checkbox\" ><label for=\"sk-estimator-id-6\" class=\"sk-toggleable__label sk-toggleable__label-arrow\">Pipeline</label><div class=\"sk-toggleable__content\"><pre>Pipeline(steps=[(&#x27;kmeans_cluster&#x27;, AdicionaColClusters(k=2)),\n",
       "                (&#x27;rand_search&#x27;,\n",
       "                 RandomizedSearchCV(cv=5,\n",
       "                                    estimator=XGBRegressor(base_score=None,\n",
       "                                                           booster=None,\n",
       "                                                           callbacks=None,\n",
       "                                                           colsample_bylevel=None,\n",
       "                                                           colsample_bynode=None,\n",
       "                                                           colsample_bytree=None,\n",
       "                                                           early_stopping_rounds=None,\n",
       "                                                           enable_categorical=False,\n",
       "                                                           eval_metric=None,\n",
       "                                                           feature_types=None,\n",
       "                                                           gamma=None,\n",
       "                                                           gpu_id=None,\n",
       "                                                           grow_p...\n",
       "                                                         &#x27;colsample_bytree&#x27;: &lt;scipy.stats._distn_infrastructure.rv_continuous_frozen object at 0x7fb8215e82e0&gt;,\n",
       "                                                         &#x27;learning_rate&#x27;: &lt;scipy.stats._distn_infrastructure.rv_continuous_frozen object at 0x7fb8218348e0&gt;,\n",
       "                                                         &#x27;max_bin&#x27;: [255, 256,\n",
       "                                                                     257],\n",
       "                                                         &#x27;max_depth&#x27;: range(2, 12),\n",
       "                                                         &#x27;max_leaves&#x27;: [1, 2,\n",
       "                                                                        3],\n",
       "                                                         &#x27;n_estimators&#x27;: range(10, 50)},\n",
       "                                    random_state=1000, refit=False,\n",
       "                                    scoring=&#x27;neg_mean_squared_error&#x27;,\n",
       "                                    verbose=1))])</pre></div></div></div><div class=\"sk-serial\"><div class=\"sk-item\"><div class=\"sk-estimator sk-toggleable\"><input class=\"sk-toggleable__control sk-hidden--visually\" id=\"sk-estimator-id-7\" type=\"checkbox\" ><label for=\"sk-estimator-id-7\" class=\"sk-toggleable__label sk-toggleable__label-arrow\">AdicionaColClusters</label><div class=\"sk-toggleable__content\"><pre>AdicionaColClusters(k=2)</pre></div></div></div><div class=\"sk-item sk-dashed-wrapped\"><div class=\"sk-label-container\"><div class=\"sk-label sk-toggleable\"><input class=\"sk-toggleable__control sk-hidden--visually\" id=\"sk-estimator-id-8\" type=\"checkbox\" ><label for=\"sk-estimator-id-8\" class=\"sk-toggleable__label sk-toggleable__label-arrow\">rand_search: RandomizedSearchCV</label><div class=\"sk-toggleable__content\"><pre>RandomizedSearchCV(cv=5,\n",
       "                   estimator=XGBRegressor(base_score=None, booster=None,\n",
       "                                          callbacks=None,\n",
       "                                          colsample_bylevel=None,\n",
       "                                          colsample_bynode=None,\n",
       "                                          colsample_bytree=None,\n",
       "                                          early_stopping_rounds=None,\n",
       "                                          enable_categorical=False,\n",
       "                                          eval_metric=None, feature_types=None,\n",
       "                                          gamma=None, gpu_id=None,\n",
       "                                          grow_policy=None,\n",
       "                                          importance_type=None,\n",
       "                                          interaction_constraints=None,\n",
       "                                          learning_rate=...\n",
       "                                        &#x27;colsample_bytree&#x27;: &lt;scipy.stats._distn_infrastructure.rv_continuous_frozen object at 0x7fb8215e82e0&gt;,\n",
       "                                        &#x27;learning_rate&#x27;: &lt;scipy.stats._distn_infrastructure.rv_continuous_frozen object at 0x7fb8218348e0&gt;,\n",
       "                                        &#x27;max_bin&#x27;: [255, 256, 257],\n",
       "                                        &#x27;max_depth&#x27;: range(2, 12),\n",
       "                                        &#x27;max_leaves&#x27;: [1, 2, 3],\n",
       "                                        &#x27;n_estimators&#x27;: range(10, 50)},\n",
       "                   random_state=1000, refit=False,\n",
       "                   scoring=&#x27;neg_mean_squared_error&#x27;, verbose=1)</pre></div></div></div><div class=\"sk-parallel\"><div class=\"sk-parallel-item\"><div class=\"sk-item\"><div class=\"sk-label-container\"><div class=\"sk-label sk-toggleable\"><input class=\"sk-toggleable__control sk-hidden--visually\" id=\"sk-estimator-id-9\" type=\"checkbox\" ><label for=\"sk-estimator-id-9\" class=\"sk-toggleable__label sk-toggleable__label-arrow\">estimator: XGBRegressor</label><div class=\"sk-toggleable__content\"><pre>XGBRegressor(base_score=None, booster=None, callbacks=None,\n",
       "             colsample_bylevel=None, colsample_bynode=None,\n",
       "             colsample_bytree=None, early_stopping_rounds=None,\n",
       "             enable_categorical=False, eval_metric=None, feature_types=None,\n",
       "             gamma=None, gpu_id=None, grow_policy=None, importance_type=None,\n",
       "             interaction_constraints=None, learning_rate=None, max_bin=None,\n",
       "             max_cat_threshold=None, max_cat_to_onehot=None,\n",
       "             max_delta_step=None, max_depth=None, max_leaves=None,\n",
       "             min_child_weight=None, missing=nan, monotone_constraints=None,\n",
       "             n_estimators=100, n_jobs=None, num_parallel_tree=None,\n",
       "             predictor=None, random_state=None, ...)</pre></div></div></div><div class=\"sk-serial\"><div class=\"sk-item\"><div class=\"sk-estimator sk-toggleable\"><input class=\"sk-toggleable__control sk-hidden--visually\" id=\"sk-estimator-id-10\" type=\"checkbox\" ><label for=\"sk-estimator-id-10\" class=\"sk-toggleable__label sk-toggleable__label-arrow\">XGBRegressor</label><div class=\"sk-toggleable__content\"><pre>XGBRegressor(base_score=None, booster=None, callbacks=None,\n",
       "             colsample_bylevel=None, colsample_bynode=None,\n",
       "             colsample_bytree=None, early_stopping_rounds=None,\n",
       "             enable_categorical=False, eval_metric=None, feature_types=None,\n",
       "             gamma=None, gpu_id=None, grow_policy=None, importance_type=None,\n",
       "             interaction_constraints=None, learning_rate=None, max_bin=None,\n",
       "             max_cat_threshold=None, max_cat_to_onehot=None,\n",
       "             max_delta_step=None, max_depth=None, max_leaves=None,\n",
       "             min_child_weight=None, missing=nan, monotone_constraints=None,\n",
       "             n_estimators=100, n_jobs=None, num_parallel_tree=None,\n",
       "             predictor=None, random_state=None, ...)</pre></div></div></div></div></div></div></div></div></div></div></div></div>"
      ],
      "text/plain": [
       "Pipeline(steps=[('kmeans_cluster', AdicionaColClusters(k=2)),\n",
       "                ('rand_search',\n",
       "                 RandomizedSearchCV(cv=5,\n",
       "                                    estimator=XGBRegressor(base_score=None,\n",
       "                                                           booster=None,\n",
       "                                                           callbacks=None,\n",
       "                                                           colsample_bylevel=None,\n",
       "                                                           colsample_bynode=None,\n",
       "                                                           colsample_bytree=None,\n",
       "                                                           early_stopping_rounds=None,\n",
       "                                                           enable_categorical=False,\n",
       "                                                           eval_metric=None,\n",
       "                                                           feature_types=None,\n",
       "                                                           gamma=None,\n",
       "                                                           gpu_id=None,\n",
       "                                                           grow_p...\n",
       "                                                         'colsample_bytree': <scipy.stats._distn_infrastructure.rv_continuous_frozen object at 0x7fb8215e82e0>,\n",
       "                                                         'learning_rate': <scipy.stats._distn_infrastructure.rv_continuous_frozen object at 0x7fb8218348e0>,\n",
       "                                                         'max_bin': [255, 256,\n",
       "                                                                     257],\n",
       "                                                         'max_depth': range(2, 12),\n",
       "                                                         'max_leaves': [1, 2,\n",
       "                                                                        3],\n",
       "                                                         'n_estimators': range(10, 50)},\n",
       "                                    random_state=1000, refit=False,\n",
       "                                    scoring='neg_mean_squared_error',\n",
       "                                    verbose=1))])"
      ]
     },
     "execution_count": 22,
     "metadata": {},
     "output_type": "execute_result"
    }
   ],
   "source": [
    "# Cria o pipeline\n",
    "# ===========================================\n",
    "\n",
    "# número de clusters\n",
    "k=2\n",
    "\n",
    "# instancia do modelos\n",
    "modelo = xgb.XGBRegressor()\n",
    "\n",
    "\n",
    "# espaço de hiperparametros\n",
    "param_grid = {    \n",
    "    'max_depth': range(2, 12),\n",
    "    'n_estimators': range(10,50),\n",
    "    'colsample_bytree': stats.uniform(0.3, 0.7),\n",
    "    'learning_rate':stats.uniform(0.2, 0.6),    \n",
    "    'max_leaves':[1,2,3],\n",
    "    'max_bin': [255,256,257],\n",
    "    'base_score': stats.uniform(0.2,0.7)\n",
    "}\n",
    "\n",
    "\n",
    "\n",
    "# treina o modelo\n",
    "search_pipe= Pipeline([\n",
    "    ('kmeans_cluster', trans_ml.AdicionaColClusters(k,\n",
    "                                                    rand=1000)),\n",
    "    ('rand_search', RandomizedSearchCV(modelo,\n",
    "                            param_grid,\n",
    "                            scoring='neg_mean_squared_error',\n",
    "                            cv=5,\n",
    "                            n_iter = 100,        #numero de pontos no espaço de hiperp. testados\n",
    "                            random_state=1000,   #semente pra gerador de num. alat.\n",
    "                            n_jobs=-1,           #número de CPU's usados em paralelo\n",
    "                            verbose=1,\n",
    "                            refit=False))\n",
    "    ])\n",
    "\n",
    "# fita\n",
    "search_pipe.fit(X_train, y_train)"
   ]
  },
  {
   "cell_type": "code",
   "execution_count": 23,
   "id": "9e150f9c",
   "metadata": {},
   "outputs": [],
   "source": [
    "# Salva o modelo\n",
    "# ========================\n",
    "t=joblib.dump(search_pipe, path_modelos/\"kmeans_2_XGBoost_.joblib\")"
   ]
  },
  {
   "cell_type": "markdown",
   "id": "e0bcec87",
   "metadata": {},
   "source": [
    "## 4.5 - Random forrest com clusterização (k=3)<a id=\"rf_clus_3\"></a>\n",
    "[Índice](#ind)"
   ]
  },
  {
   "cell_type": "code",
   "execution_count": 492,
   "id": "64607ae6",
   "metadata": {},
   "outputs": [
    {
     "name": "stdout",
     "output_type": "stream",
     "text": [
      "Fitting 5 folds for each of 100 candidates, totalling 500 fits\n"
     ]
    },
    {
     "data": {
      "text/html": [
       "<style>#sk-container-id-74 {color: black;background-color: white;}#sk-container-id-74 pre{padding: 0;}#sk-container-id-74 div.sk-toggleable {background-color: white;}#sk-container-id-74 label.sk-toggleable__label {cursor: pointer;display: block;width: 100%;margin-bottom: 0;padding: 0.3em;box-sizing: border-box;text-align: center;}#sk-container-id-74 label.sk-toggleable__label-arrow:before {content: \"▸\";float: left;margin-right: 0.25em;color: #696969;}#sk-container-id-74 label.sk-toggleable__label-arrow:hover:before {color: black;}#sk-container-id-74 div.sk-estimator:hover label.sk-toggleable__label-arrow:before {color: black;}#sk-container-id-74 div.sk-toggleable__content {max-height: 0;max-width: 0;overflow: hidden;text-align: left;background-color: #f0f8ff;}#sk-container-id-74 div.sk-toggleable__content pre {margin: 0.2em;color: black;border-radius: 0.25em;background-color: #f0f8ff;}#sk-container-id-74 input.sk-toggleable__control:checked~div.sk-toggleable__content {max-height: 200px;max-width: 100%;overflow: auto;}#sk-container-id-74 input.sk-toggleable__control:checked~label.sk-toggleable__label-arrow:before {content: \"▾\";}#sk-container-id-74 div.sk-estimator input.sk-toggleable__control:checked~label.sk-toggleable__label {background-color: #d4ebff;}#sk-container-id-74 div.sk-label input.sk-toggleable__control:checked~label.sk-toggleable__label {background-color: #d4ebff;}#sk-container-id-74 input.sk-hidden--visually {border: 0;clip: rect(1px 1px 1px 1px);clip: rect(1px, 1px, 1px, 1px);height: 1px;margin: -1px;overflow: hidden;padding: 0;position: absolute;width: 1px;}#sk-container-id-74 div.sk-estimator {font-family: monospace;background-color: #f0f8ff;border: 1px dotted black;border-radius: 0.25em;box-sizing: border-box;margin-bottom: 0.5em;}#sk-container-id-74 div.sk-estimator:hover {background-color: #d4ebff;}#sk-container-id-74 div.sk-parallel-item::after {content: \"\";width: 100%;border-bottom: 1px solid gray;flex-grow: 1;}#sk-container-id-74 div.sk-label:hover label.sk-toggleable__label {background-color: #d4ebff;}#sk-container-id-74 div.sk-serial::before {content: \"\";position: absolute;border-left: 1px solid gray;box-sizing: border-box;top: 0;bottom: 0;left: 50%;z-index: 0;}#sk-container-id-74 div.sk-serial {display: flex;flex-direction: column;align-items: center;background-color: white;padding-right: 0.2em;padding-left: 0.2em;position: relative;}#sk-container-id-74 div.sk-item {position: relative;z-index: 1;}#sk-container-id-74 div.sk-parallel {display: flex;align-items: stretch;justify-content: center;background-color: white;position: relative;}#sk-container-id-74 div.sk-item::before, #sk-container-id-74 div.sk-parallel-item::before {content: \"\";position: absolute;border-left: 1px solid gray;box-sizing: border-box;top: 0;bottom: 0;left: 50%;z-index: -1;}#sk-container-id-74 div.sk-parallel-item {display: flex;flex-direction: column;z-index: 1;position: relative;background-color: white;}#sk-container-id-74 div.sk-parallel-item:first-child::after {align-self: flex-end;width: 50%;}#sk-container-id-74 div.sk-parallel-item:last-child::after {align-self: flex-start;width: 50%;}#sk-container-id-74 div.sk-parallel-item:only-child::after {width: 0;}#sk-container-id-74 div.sk-dashed-wrapped {border: 1px dashed gray;margin: 0 0.4em 0.5em 0.4em;box-sizing: border-box;padding-bottom: 0.4em;background-color: white;}#sk-container-id-74 div.sk-label label {font-family: monospace;font-weight: bold;display: inline-block;line-height: 1.2em;}#sk-container-id-74 div.sk-label-container {text-align: center;}#sk-container-id-74 div.sk-container {/* jupyter's `normalize.less` sets `[hidden] { display: none; }` but bootstrap.min.css set `[hidden] { display: none !important; }` so we also need the `!important` here to be able to override the default hidden behavior on the sphinx rendered scikit-learn.org. See: https://github.com/scikit-learn/scikit-learn/issues/21755 */display: inline-block !important;position: relative;}#sk-container-id-74 div.sk-text-repr-fallback {display: none;}</style><div id=\"sk-container-id-74\" class=\"sk-top-container\"><div class=\"sk-text-repr-fallback\"><pre>Pipeline(steps=[(&#x27;kmeans_cluster&#x27;, AdicionaColClusters()),\n",
       "                (&#x27;rand_search&#x27;,\n",
       "                 RandomizedSearchCV(cv=5,\n",
       "                                    estimator=RandomForestRegressor(random_state=0),\n",
       "                                    n_iter=100, n_jobs=-1,\n",
       "                                    param_distributions={&#x27;max_depth&#x27;: &lt;scipy.stats._distn_infrastructure.rv_discrete_frozen object at 0x7f32172ba5c0&gt;,\n",
       "                                                         &#x27;max_features&#x27;: &lt;scipy.stats._distn_infrastructure.rv_discrete_frozen object at 0x7f321e3d6920&gt;,\n",
       "                                                         &#x27;n_estimators&#x27;: &lt;scipy.stats._distn_infrastructure.rv_discrete_frozen object at 0x7f32172ba830&gt;},\n",
       "                                    random_state=10000, refit=False,\n",
       "                                    scoring=&#x27;neg_mean_squared_error&#x27;,\n",
       "                                    verbose=1))])</pre><b>In a Jupyter environment, please rerun this cell to show the HTML representation or trust the notebook. <br />On GitHub, the HTML representation is unable to render, please try loading this page with nbviewer.org.</b></div><div class=\"sk-container\" hidden><div class=\"sk-item sk-dashed-wrapped\"><div class=\"sk-label-container\"><div class=\"sk-label sk-toggleable\"><input class=\"sk-toggleable__control sk-hidden--visually\" id=\"sk-estimator-id-177\" type=\"checkbox\" ><label for=\"sk-estimator-id-177\" class=\"sk-toggleable__label sk-toggleable__label-arrow\">Pipeline</label><div class=\"sk-toggleable__content\"><pre>Pipeline(steps=[(&#x27;kmeans_cluster&#x27;, AdicionaColClusters()),\n",
       "                (&#x27;rand_search&#x27;,\n",
       "                 RandomizedSearchCV(cv=5,\n",
       "                                    estimator=RandomForestRegressor(random_state=0),\n",
       "                                    n_iter=100, n_jobs=-1,\n",
       "                                    param_distributions={&#x27;max_depth&#x27;: &lt;scipy.stats._distn_infrastructure.rv_discrete_frozen object at 0x7f32172ba5c0&gt;,\n",
       "                                                         &#x27;max_features&#x27;: &lt;scipy.stats._distn_infrastructure.rv_discrete_frozen object at 0x7f321e3d6920&gt;,\n",
       "                                                         &#x27;n_estimators&#x27;: &lt;scipy.stats._distn_infrastructure.rv_discrete_frozen object at 0x7f32172ba830&gt;},\n",
       "                                    random_state=10000, refit=False,\n",
       "                                    scoring=&#x27;neg_mean_squared_error&#x27;,\n",
       "                                    verbose=1))])</pre></div></div></div><div class=\"sk-serial\"><div class=\"sk-item\"><div class=\"sk-estimator sk-toggleable\"><input class=\"sk-toggleable__control sk-hidden--visually\" id=\"sk-estimator-id-178\" type=\"checkbox\" ><label for=\"sk-estimator-id-178\" class=\"sk-toggleable__label sk-toggleable__label-arrow\">AdicionaColClusters</label><div class=\"sk-toggleable__content\"><pre>AdicionaColClusters()</pre></div></div></div><div class=\"sk-item sk-dashed-wrapped\"><div class=\"sk-label-container\"><div class=\"sk-label sk-toggleable\"><input class=\"sk-toggleable__control sk-hidden--visually\" id=\"sk-estimator-id-179\" type=\"checkbox\" ><label for=\"sk-estimator-id-179\" class=\"sk-toggleable__label sk-toggleable__label-arrow\">rand_search: RandomizedSearchCV</label><div class=\"sk-toggleable__content\"><pre>RandomizedSearchCV(cv=5, estimator=RandomForestRegressor(random_state=0),\n",
       "                   n_iter=100, n_jobs=-1,\n",
       "                   param_distributions={&#x27;max_depth&#x27;: &lt;scipy.stats._distn_infrastructure.rv_discrete_frozen object at 0x7f32172ba5c0&gt;,\n",
       "                                        &#x27;max_features&#x27;: &lt;scipy.stats._distn_infrastructure.rv_discrete_frozen object at 0x7f321e3d6920&gt;,\n",
       "                                        &#x27;n_estimators&#x27;: &lt;scipy.stats._distn_infrastructure.rv_discrete_frozen object at 0x7f32172ba830&gt;},\n",
       "                   random_state=10000, refit=False,\n",
       "                   scoring=&#x27;neg_mean_squared_error&#x27;, verbose=1)</pre></div></div></div><div class=\"sk-parallel\"><div class=\"sk-parallel-item\"><div class=\"sk-item\"><div class=\"sk-label-container\"><div class=\"sk-label sk-toggleable\"><input class=\"sk-toggleable__control sk-hidden--visually\" id=\"sk-estimator-id-180\" type=\"checkbox\" ><label for=\"sk-estimator-id-180\" class=\"sk-toggleable__label sk-toggleable__label-arrow\">estimator: RandomForestRegressor</label><div class=\"sk-toggleable__content\"><pre>RandomForestRegressor(random_state=0)</pre></div></div></div><div class=\"sk-serial\"><div class=\"sk-item\"><div class=\"sk-estimator sk-toggleable\"><input class=\"sk-toggleable__control sk-hidden--visually\" id=\"sk-estimator-id-181\" type=\"checkbox\" ><label for=\"sk-estimator-id-181\" class=\"sk-toggleable__label sk-toggleable__label-arrow\">RandomForestRegressor</label><div class=\"sk-toggleable__content\"><pre>RandomForestRegressor(random_state=0)</pre></div></div></div></div></div></div></div></div></div></div></div></div>"
      ],
      "text/plain": [
       "Pipeline(steps=[('kmeans_cluster', AdicionaColClusters()),\n",
       "                ('rand_search',\n",
       "                 RandomizedSearchCV(cv=5,\n",
       "                                    estimator=RandomForestRegressor(random_state=0),\n",
       "                                    n_iter=100, n_jobs=-1,\n",
       "                                    param_distributions={'max_depth': <scipy.stats._distn_infrastructure.rv_discrete_frozen object at 0x7f32172ba5c0>,\n",
       "                                                         'max_features': <scipy.stats._distn_infrastructure.rv_discrete_frozen object at 0x7f321e3d6920>,\n",
       "                                                         'n_estimators': <scipy.stats._distn_infrastructure.rv_discrete_frozen object at 0x7f32172ba830>},\n",
       "                                    random_state=10000, refit=False,\n",
       "                                    scoring='neg_mean_squared_error',\n",
       "                                    verbose=1))])"
      ]
     },
     "execution_count": 492,
     "metadata": {},
     "output_type": "execute_result"
    }
   ],
   "source": [
    "# Cria o pipeline\n",
    "# ========================================\n",
    "\n",
    "#número de clusters\n",
    "k=3\n",
    "\n",
    "# modelo de regressão\n",
    "rand_forest= RandomForestRegressor(random_state=0,\n",
    "                                   max_samples=None,\n",
    "                                   bootstrap=True,)\n",
    "\n",
    "# espaço de hiperparametros\n",
    "param_grid = dict(\n",
    "    max_depth=stats.randint(14, 18),\n",
    "    max_features=stats.randint(2, 6),\n",
    "    n_estimators=stats.randint(30, 50),\n",
    "    )\n",
    "\n",
    "\n",
    "# treina o modelo\n",
    "search_pipe= Pipeline([\n",
    "    ('kmeans_cluster', trans_ml.AdicionaColClusters(k, rand=1000)),\n",
    "    ('rand_search', RandomizedSearchCV(rand_forest,\n",
    "                            param_grid,\n",
    "                            scoring='neg_mean_squared_error',\n",
    "                            cv=5,\n",
    "                            n_iter = 100,        #numero de pontos no espaço de hiperp. testados\n",
    "                            random_state=10000,  #semente pra gerador de num. alat.\n",
    "                            n_jobs=-1,           #número de CPU's usados em paralelo\n",
    "                            verbose=1,\n",
    "                            refit=False))\n",
    "    ])\n",
    "\n",
    "# fita\n",
    "search_pipe.fit(X_train, y_train)\n"
   ]
  },
  {
   "cell_type": "code",
   "execution_count": 493,
   "id": "a2bb83ee",
   "metadata": {},
   "outputs": [],
   "source": [
    "# Salva o modelo\n",
    "# ========================\n",
    "t=joblib.dump(search_pipe, path_modelos/\"kmeans_3_randForest_.joblib\")"
   ]
  },
  {
   "cell_type": "markdown",
   "id": "f4d449bc",
   "metadata": {},
   "source": [
    "## 4.6 - XGBoost com clusterização (k=3)<a id=\"xg_clas_3\">\n",
    "[Índice](#ind)"
   ]
  },
  {
   "cell_type": "code",
   "execution_count": 494,
   "id": "11a450e5",
   "metadata": {},
   "outputs": [
    {
     "name": "stdout",
     "output_type": "stream",
     "text": [
      "Once deleted, variables cannot be recovered. Proceed (y/[n])? y\n"
     ]
    }
   ],
   "source": [
    "%reset"
   ]
  },
  {
   "cell_type": "code",
   "execution_count": 500,
   "id": "021bf676",
   "metadata": {},
   "outputs": [
    {
     "name": "stdout",
     "output_type": "stream",
     "text": [
      "Fitting 5 folds for each of 100 candidates, totalling 500 fits\n"
     ]
    },
    {
     "data": {
      "text/html": [
       "<style>#sk-container-id-75 {color: black;background-color: white;}#sk-container-id-75 pre{padding: 0;}#sk-container-id-75 div.sk-toggleable {background-color: white;}#sk-container-id-75 label.sk-toggleable__label {cursor: pointer;display: block;width: 100%;margin-bottom: 0;padding: 0.3em;box-sizing: border-box;text-align: center;}#sk-container-id-75 label.sk-toggleable__label-arrow:before {content: \"▸\";float: left;margin-right: 0.25em;color: #696969;}#sk-container-id-75 label.sk-toggleable__label-arrow:hover:before {color: black;}#sk-container-id-75 div.sk-estimator:hover label.sk-toggleable__label-arrow:before {color: black;}#sk-container-id-75 div.sk-toggleable__content {max-height: 0;max-width: 0;overflow: hidden;text-align: left;background-color: #f0f8ff;}#sk-container-id-75 div.sk-toggleable__content pre {margin: 0.2em;color: black;border-radius: 0.25em;background-color: #f0f8ff;}#sk-container-id-75 input.sk-toggleable__control:checked~div.sk-toggleable__content {max-height: 200px;max-width: 100%;overflow: auto;}#sk-container-id-75 input.sk-toggleable__control:checked~label.sk-toggleable__label-arrow:before {content: \"▾\";}#sk-container-id-75 div.sk-estimator input.sk-toggleable__control:checked~label.sk-toggleable__label {background-color: #d4ebff;}#sk-container-id-75 div.sk-label input.sk-toggleable__control:checked~label.sk-toggleable__label {background-color: #d4ebff;}#sk-container-id-75 input.sk-hidden--visually {border: 0;clip: rect(1px 1px 1px 1px);clip: rect(1px, 1px, 1px, 1px);height: 1px;margin: -1px;overflow: hidden;padding: 0;position: absolute;width: 1px;}#sk-container-id-75 div.sk-estimator {font-family: monospace;background-color: #f0f8ff;border: 1px dotted black;border-radius: 0.25em;box-sizing: border-box;margin-bottom: 0.5em;}#sk-container-id-75 div.sk-estimator:hover {background-color: #d4ebff;}#sk-container-id-75 div.sk-parallel-item::after {content: \"\";width: 100%;border-bottom: 1px solid gray;flex-grow: 1;}#sk-container-id-75 div.sk-label:hover label.sk-toggleable__label {background-color: #d4ebff;}#sk-container-id-75 div.sk-serial::before {content: \"\";position: absolute;border-left: 1px solid gray;box-sizing: border-box;top: 0;bottom: 0;left: 50%;z-index: 0;}#sk-container-id-75 div.sk-serial {display: flex;flex-direction: column;align-items: center;background-color: white;padding-right: 0.2em;padding-left: 0.2em;position: relative;}#sk-container-id-75 div.sk-item {position: relative;z-index: 1;}#sk-container-id-75 div.sk-parallel {display: flex;align-items: stretch;justify-content: center;background-color: white;position: relative;}#sk-container-id-75 div.sk-item::before, #sk-container-id-75 div.sk-parallel-item::before {content: \"\";position: absolute;border-left: 1px solid gray;box-sizing: border-box;top: 0;bottom: 0;left: 50%;z-index: -1;}#sk-container-id-75 div.sk-parallel-item {display: flex;flex-direction: column;z-index: 1;position: relative;background-color: white;}#sk-container-id-75 div.sk-parallel-item:first-child::after {align-self: flex-end;width: 50%;}#sk-container-id-75 div.sk-parallel-item:last-child::after {align-self: flex-start;width: 50%;}#sk-container-id-75 div.sk-parallel-item:only-child::after {width: 0;}#sk-container-id-75 div.sk-dashed-wrapped {border: 1px dashed gray;margin: 0 0.4em 0.5em 0.4em;box-sizing: border-box;padding-bottom: 0.4em;background-color: white;}#sk-container-id-75 div.sk-label label {font-family: monospace;font-weight: bold;display: inline-block;line-height: 1.2em;}#sk-container-id-75 div.sk-label-container {text-align: center;}#sk-container-id-75 div.sk-container {/* jupyter's `normalize.less` sets `[hidden] { display: none; }` but bootstrap.min.css set `[hidden] { display: none !important; }` so we also need the `!important` here to be able to override the default hidden behavior on the sphinx rendered scikit-learn.org. See: https://github.com/scikit-learn/scikit-learn/issues/21755 */display: inline-block !important;position: relative;}#sk-container-id-75 div.sk-text-repr-fallback {display: none;}</style><div id=\"sk-container-id-75\" class=\"sk-top-container\"><div class=\"sk-text-repr-fallback\"><pre>Pipeline(steps=[(&#x27;kmeans_cluster&#x27;, AdicionaColClusters()),\n",
       "                (&#x27;rand_search&#x27;,\n",
       "                 RandomizedSearchCV(cv=5,\n",
       "                                    estimator=XGBRegressor(base_score=None,\n",
       "                                                           booster=None,\n",
       "                                                           callbacks=None,\n",
       "                                                           colsample_bylevel=None,\n",
       "                                                           colsample_bynode=None,\n",
       "                                                           colsample_bytree=None,\n",
       "                                                           early_stopping_rounds=None,\n",
       "                                                           enable_categorical=False,\n",
       "                                                           eval_metric=None,\n",
       "                                                           feature_types=None,\n",
       "                                                           gamma=None,\n",
       "                                                           gpu_id=None,\n",
       "                                                           grow_poli...\n",
       "                                                         &#x27;colsample_bytree&#x27;: &lt;scipy.stats._distn_infrastructure.rv_continuous_frozen object at 0x7f32172bae00&gt;,\n",
       "                                                         &#x27;learning_rate&#x27;: &lt;scipy.stats._distn_infrastructure.rv_continuous_frozen object at 0x7f321e3d7fa0&gt;,\n",
       "                                                         &#x27;max_bin&#x27;: [255, 256,\n",
       "                                                                     257],\n",
       "                                                         &#x27;max_depth&#x27;: range(2, 12),\n",
       "                                                         &#x27;max_leaves&#x27;: [1, 2,\n",
       "                                                                        3],\n",
       "                                                         &#x27;n_estimators&#x27;: range(10, 50)},\n",
       "                                    random_state=1000, refit=False,\n",
       "                                    scoring=&#x27;neg_mean_squared_error&#x27;,\n",
       "                                    verbose=1))])</pre><b>In a Jupyter environment, please rerun this cell to show the HTML representation or trust the notebook. <br />On GitHub, the HTML representation is unable to render, please try loading this page with nbviewer.org.</b></div><div class=\"sk-container\" hidden><div class=\"sk-item sk-dashed-wrapped\"><div class=\"sk-label-container\"><div class=\"sk-label sk-toggleable\"><input class=\"sk-toggleable__control sk-hidden--visually\" id=\"sk-estimator-id-182\" type=\"checkbox\" ><label for=\"sk-estimator-id-182\" class=\"sk-toggleable__label sk-toggleable__label-arrow\">Pipeline</label><div class=\"sk-toggleable__content\"><pre>Pipeline(steps=[(&#x27;kmeans_cluster&#x27;, AdicionaColClusters()),\n",
       "                (&#x27;rand_search&#x27;,\n",
       "                 RandomizedSearchCV(cv=5,\n",
       "                                    estimator=XGBRegressor(base_score=None,\n",
       "                                                           booster=None,\n",
       "                                                           callbacks=None,\n",
       "                                                           colsample_bylevel=None,\n",
       "                                                           colsample_bynode=None,\n",
       "                                                           colsample_bytree=None,\n",
       "                                                           early_stopping_rounds=None,\n",
       "                                                           enable_categorical=False,\n",
       "                                                           eval_metric=None,\n",
       "                                                           feature_types=None,\n",
       "                                                           gamma=None,\n",
       "                                                           gpu_id=None,\n",
       "                                                           grow_poli...\n",
       "                                                         &#x27;colsample_bytree&#x27;: &lt;scipy.stats._distn_infrastructure.rv_continuous_frozen object at 0x7f32172bae00&gt;,\n",
       "                                                         &#x27;learning_rate&#x27;: &lt;scipy.stats._distn_infrastructure.rv_continuous_frozen object at 0x7f321e3d7fa0&gt;,\n",
       "                                                         &#x27;max_bin&#x27;: [255, 256,\n",
       "                                                                     257],\n",
       "                                                         &#x27;max_depth&#x27;: range(2, 12),\n",
       "                                                         &#x27;max_leaves&#x27;: [1, 2,\n",
       "                                                                        3],\n",
       "                                                         &#x27;n_estimators&#x27;: range(10, 50)},\n",
       "                                    random_state=1000, refit=False,\n",
       "                                    scoring=&#x27;neg_mean_squared_error&#x27;,\n",
       "                                    verbose=1))])</pre></div></div></div><div class=\"sk-serial\"><div class=\"sk-item\"><div class=\"sk-estimator sk-toggleable\"><input class=\"sk-toggleable__control sk-hidden--visually\" id=\"sk-estimator-id-183\" type=\"checkbox\" ><label for=\"sk-estimator-id-183\" class=\"sk-toggleable__label sk-toggleable__label-arrow\">AdicionaColClusters</label><div class=\"sk-toggleable__content\"><pre>AdicionaColClusters()</pre></div></div></div><div class=\"sk-item sk-dashed-wrapped\"><div class=\"sk-label-container\"><div class=\"sk-label sk-toggleable\"><input class=\"sk-toggleable__control sk-hidden--visually\" id=\"sk-estimator-id-184\" type=\"checkbox\" ><label for=\"sk-estimator-id-184\" class=\"sk-toggleable__label sk-toggleable__label-arrow\">rand_search: RandomizedSearchCV</label><div class=\"sk-toggleable__content\"><pre>RandomizedSearchCV(cv=5,\n",
       "                   estimator=XGBRegressor(base_score=None, booster=None,\n",
       "                                          callbacks=None,\n",
       "                                          colsample_bylevel=None,\n",
       "                                          colsample_bynode=None,\n",
       "                                          colsample_bytree=None,\n",
       "                                          early_stopping_rounds=None,\n",
       "                                          enable_categorical=False,\n",
       "                                          eval_metric=None, feature_types=None,\n",
       "                                          gamma=None, gpu_id=None,\n",
       "                                          grow_policy=None,\n",
       "                                          importance_type=None,\n",
       "                                          interaction_constraints=None,\n",
       "                                          learning_rate=...\n",
       "                                        &#x27;colsample_bytree&#x27;: &lt;scipy.stats._distn_infrastructure.rv_continuous_frozen object at 0x7f32172bae00&gt;,\n",
       "                                        &#x27;learning_rate&#x27;: &lt;scipy.stats._distn_infrastructure.rv_continuous_frozen object at 0x7f321e3d7fa0&gt;,\n",
       "                                        &#x27;max_bin&#x27;: [255, 256, 257],\n",
       "                                        &#x27;max_depth&#x27;: range(2, 12),\n",
       "                                        &#x27;max_leaves&#x27;: [1, 2, 3],\n",
       "                                        &#x27;n_estimators&#x27;: range(10, 50)},\n",
       "                   random_state=1000, refit=False,\n",
       "                   scoring=&#x27;neg_mean_squared_error&#x27;, verbose=1)</pre></div></div></div><div class=\"sk-parallel\"><div class=\"sk-parallel-item\"><div class=\"sk-item\"><div class=\"sk-label-container\"><div class=\"sk-label sk-toggleable\"><input class=\"sk-toggleable__control sk-hidden--visually\" id=\"sk-estimator-id-185\" type=\"checkbox\" ><label for=\"sk-estimator-id-185\" class=\"sk-toggleable__label sk-toggleable__label-arrow\">estimator: XGBRegressor</label><div class=\"sk-toggleable__content\"><pre>XGBRegressor(base_score=None, booster=None, callbacks=None,\n",
       "             colsample_bylevel=None, colsample_bynode=None,\n",
       "             colsample_bytree=None, early_stopping_rounds=None,\n",
       "             enable_categorical=False, eval_metric=None, feature_types=None,\n",
       "             gamma=None, gpu_id=None, grow_policy=None, importance_type=None,\n",
       "             interaction_constraints=None, learning_rate=None, max_bin=None,\n",
       "             max_cat_threshold=None, max_cat_to_onehot=None,\n",
       "             max_delta_step=None, max_depth=None, max_leaves=None,\n",
       "             min_child_weight=None, missing=nan, monotone_constraints=None,\n",
       "             n_estimators=100, n_jobs=None, num_parallel_tree=None,\n",
       "             predictor=None, random_state=None, ...)</pre></div></div></div><div class=\"sk-serial\"><div class=\"sk-item\"><div class=\"sk-estimator sk-toggleable\"><input class=\"sk-toggleable__control sk-hidden--visually\" id=\"sk-estimator-id-186\" type=\"checkbox\" ><label for=\"sk-estimator-id-186\" class=\"sk-toggleable__label sk-toggleable__label-arrow\">XGBRegressor</label><div class=\"sk-toggleable__content\"><pre>XGBRegressor(base_score=None, booster=None, callbacks=None,\n",
       "             colsample_bylevel=None, colsample_bynode=None,\n",
       "             colsample_bytree=None, early_stopping_rounds=None,\n",
       "             enable_categorical=False, eval_metric=None, feature_types=None,\n",
       "             gamma=None, gpu_id=None, grow_policy=None, importance_type=None,\n",
       "             interaction_constraints=None, learning_rate=None, max_bin=None,\n",
       "             max_cat_threshold=None, max_cat_to_onehot=None,\n",
       "             max_delta_step=None, max_depth=None, max_leaves=None,\n",
       "             min_child_weight=None, missing=nan, monotone_constraints=None,\n",
       "             n_estimators=100, n_jobs=None, num_parallel_tree=None,\n",
       "             predictor=None, random_state=None, ...)</pre></div></div></div></div></div></div></div></div></div></div></div></div>"
      ],
      "text/plain": [
       "Pipeline(steps=[('kmeans_cluster', AdicionaColClusters()),\n",
       "                ('rand_search',\n",
       "                 RandomizedSearchCV(cv=5,\n",
       "                                    estimator=XGBRegressor(base_score=None,\n",
       "                                                           booster=None,\n",
       "                                                           callbacks=None,\n",
       "                                                           colsample_bylevel=None,\n",
       "                                                           colsample_bynode=None,\n",
       "                                                           colsample_bytree=None,\n",
       "                                                           early_stopping_rounds=None,\n",
       "                                                           enable_categorical=False,\n",
       "                                                           eval_metric=None,\n",
       "                                                           feature_types=None,\n",
       "                                                           gamma=None,\n",
       "                                                           gpu_id=None,\n",
       "                                                           grow_poli...\n",
       "                                                         'colsample_bytree': <scipy.stats._distn_infrastructure.rv_continuous_frozen object at 0x7f32172bae00>,\n",
       "                                                         'learning_rate': <scipy.stats._distn_infrastructure.rv_continuous_frozen object at 0x7f321e3d7fa0>,\n",
       "                                                         'max_bin': [255, 256,\n",
       "                                                                     257],\n",
       "                                                         'max_depth': range(2, 12),\n",
       "                                                         'max_leaves': [1, 2,\n",
       "                                                                        3],\n",
       "                                                         'n_estimators': range(10, 50)},\n",
       "                                    random_state=1000, refit=False,\n",
       "                                    scoring='neg_mean_squared_error',\n",
       "                                    verbose=1))])"
      ]
     },
     "execution_count": 500,
     "metadata": {},
     "output_type": "execute_result"
    }
   ],
   "source": [
    "# Cria o pipeline\n",
    "# ===========================================\n",
    "\n",
    "# número de clusters\n",
    "k=3\n",
    "\n",
    "# instancia do modelos\n",
    "modelo = xgb.XGBRegressor()\n",
    "\n",
    "\n",
    "# espaço de hiperparametros\n",
    "param_grid = {    \n",
    "    'max_depth': range(2, 12),\n",
    "    'n_estimators': range(10,50),\n",
    "    'colsample_bytree': stats.uniform(0.3, 0.7),\n",
    "    'learning_rate':stats.uniform(0.2, 0.6),    \n",
    "    'max_leaves':[1,2,3],\n",
    "    'max_bin': [255,256,257],\n",
    "    'base_score': stats.uniform(0.2,0.7)\n",
    "}\n",
    "\n",
    "\n",
    "\n",
    "# treina o modelo\n",
    "search_pipe= Pipeline([\n",
    "    ('kmeans_cluster', trans_ml.AdicionaColClusters(k,\n",
    "                                                    rand=1000)),\n",
    "    ('rand_search', RandomizedSearchCV(modelo,\n",
    "                            param_grid,\n",
    "                            scoring='neg_mean_squared_error',\n",
    "                            cv=5,\n",
    "                            n_iter = 100,        #numero de pontos no espaço de hiperp. testados\n",
    "                            random_state=1000,   #semente pra gerador de num. alat.\n",
    "                            n_jobs=-1,           #número de CPU's usados em paralelo\n",
    "                            verbose=1,\n",
    "                            refit=False))\n",
    "    ])\n",
    "\n",
    "# fita\n",
    "search_pipe.fit(X_train, y_train)"
   ]
  },
  {
   "cell_type": "code",
   "execution_count": 501,
   "id": "c411bd4e",
   "metadata": {},
   "outputs": [],
   "source": [
    "# Salva o modelo\n",
    "# ========================\n",
    "t=joblib.dump(search_pipe, path_modelos/\"kmeans_3_XGBoost_.joblib\")\n"
   ]
  },
  {
   "cell_type": "markdown",
   "id": "ef505bf4",
   "metadata": {},
   "source": [
    "## 4.7 - Random forrest com clusterização (k=4) <a id=\"rf_clus_4\">\n",
    "[Índice](#ind)"
   ]
  },
  {
   "cell_type": "code",
   "execution_count": 325,
   "id": "4fc8a897",
   "metadata": {},
   "outputs": [
    {
     "name": "stdout",
     "output_type": "stream",
     "text": [
      "Fitting 5 folds for each of 100 candidates, totalling 500 fits\n"
     ]
    },
    {
     "data": {
      "text/html": [
       "<style>#sk-container-id-28 {color: black;background-color: white;}#sk-container-id-28 pre{padding: 0;}#sk-container-id-28 div.sk-toggleable {background-color: white;}#sk-container-id-28 label.sk-toggleable__label {cursor: pointer;display: block;width: 100%;margin-bottom: 0;padding: 0.3em;box-sizing: border-box;text-align: center;}#sk-container-id-28 label.sk-toggleable__label-arrow:before {content: \"▸\";float: left;margin-right: 0.25em;color: #696969;}#sk-container-id-28 label.sk-toggleable__label-arrow:hover:before {color: black;}#sk-container-id-28 div.sk-estimator:hover label.sk-toggleable__label-arrow:before {color: black;}#sk-container-id-28 div.sk-toggleable__content {max-height: 0;max-width: 0;overflow: hidden;text-align: left;background-color: #f0f8ff;}#sk-container-id-28 div.sk-toggleable__content pre {margin: 0.2em;color: black;border-radius: 0.25em;background-color: #f0f8ff;}#sk-container-id-28 input.sk-toggleable__control:checked~div.sk-toggleable__content {max-height: 200px;max-width: 100%;overflow: auto;}#sk-container-id-28 input.sk-toggleable__control:checked~label.sk-toggleable__label-arrow:before {content: \"▾\";}#sk-container-id-28 div.sk-estimator input.sk-toggleable__control:checked~label.sk-toggleable__label {background-color: #d4ebff;}#sk-container-id-28 div.sk-label input.sk-toggleable__control:checked~label.sk-toggleable__label {background-color: #d4ebff;}#sk-container-id-28 input.sk-hidden--visually {border: 0;clip: rect(1px 1px 1px 1px);clip: rect(1px, 1px, 1px, 1px);height: 1px;margin: -1px;overflow: hidden;padding: 0;position: absolute;width: 1px;}#sk-container-id-28 div.sk-estimator {font-family: monospace;background-color: #f0f8ff;border: 1px dotted black;border-radius: 0.25em;box-sizing: border-box;margin-bottom: 0.5em;}#sk-container-id-28 div.sk-estimator:hover {background-color: #d4ebff;}#sk-container-id-28 div.sk-parallel-item::after {content: \"\";width: 100%;border-bottom: 1px solid gray;flex-grow: 1;}#sk-container-id-28 div.sk-label:hover label.sk-toggleable__label {background-color: #d4ebff;}#sk-container-id-28 div.sk-serial::before {content: \"\";position: absolute;border-left: 1px solid gray;box-sizing: border-box;top: 0;bottom: 0;left: 50%;z-index: 0;}#sk-container-id-28 div.sk-serial {display: flex;flex-direction: column;align-items: center;background-color: white;padding-right: 0.2em;padding-left: 0.2em;position: relative;}#sk-container-id-28 div.sk-item {position: relative;z-index: 1;}#sk-container-id-28 div.sk-parallel {display: flex;align-items: stretch;justify-content: center;background-color: white;position: relative;}#sk-container-id-28 div.sk-item::before, #sk-container-id-28 div.sk-parallel-item::before {content: \"\";position: absolute;border-left: 1px solid gray;box-sizing: border-box;top: 0;bottom: 0;left: 50%;z-index: -1;}#sk-container-id-28 div.sk-parallel-item {display: flex;flex-direction: column;z-index: 1;position: relative;background-color: white;}#sk-container-id-28 div.sk-parallel-item:first-child::after {align-self: flex-end;width: 50%;}#sk-container-id-28 div.sk-parallel-item:last-child::after {align-self: flex-start;width: 50%;}#sk-container-id-28 div.sk-parallel-item:only-child::after {width: 0;}#sk-container-id-28 div.sk-dashed-wrapped {border: 1px dashed gray;margin: 0 0.4em 0.5em 0.4em;box-sizing: border-box;padding-bottom: 0.4em;background-color: white;}#sk-container-id-28 div.sk-label label {font-family: monospace;font-weight: bold;display: inline-block;line-height: 1.2em;}#sk-container-id-28 div.sk-label-container {text-align: center;}#sk-container-id-28 div.sk-container {/* jupyter's `normalize.less` sets `[hidden] { display: none; }` but bootstrap.min.css set `[hidden] { display: none !important; }` so we also need the `!important` here to be able to override the default hidden behavior on the sphinx rendered scikit-learn.org. See: https://github.com/scikit-learn/scikit-learn/issues/21755 */display: inline-block !important;position: relative;}#sk-container-id-28 div.sk-text-repr-fallback {display: none;}</style><div id=\"sk-container-id-28\" class=\"sk-top-container\"><div class=\"sk-text-repr-fallback\"><pre>Pipeline(steps=[(&#x27;kmeans_cluster&#x27;, AdicionaColClusters(k=4)),\n",
       "                (&#x27;rand_search&#x27;,\n",
       "                 RandomizedSearchCV(cv=5,\n",
       "                                    estimator=RandomForestRegressor(random_state=0),\n",
       "                                    n_iter=100, n_jobs=-1,\n",
       "                                    param_distributions={&#x27;max_depth&#x27;: &lt;scipy.stats._distn_infrastructure.rv_discrete_frozen object at 0x7f321750ee30&gt;,\n",
       "                                                         &#x27;max_features&#x27;: &lt;scipy.stats._distn_infrastructure.rv_discrete_frozen object at 0x7f321745acb0&gt;,\n",
       "                                                         &#x27;n_estimators&#x27;: &lt;scipy.stats._distn_infrastructure.rv_discrete_frozen object at 0x7f32175e6bf0&gt;},\n",
       "                                    random_state=10000, refit=False,\n",
       "                                    scoring=&#x27;neg_mean_squared_error&#x27;,\n",
       "                                    verbose=1))])</pre><b>In a Jupyter environment, please rerun this cell to show the HTML representation or trust the notebook. <br />On GitHub, the HTML representation is unable to render, please try loading this page with nbviewer.org.</b></div><div class=\"sk-container\" hidden><div class=\"sk-item sk-dashed-wrapped\"><div class=\"sk-label-container\"><div class=\"sk-label sk-toggleable\"><input class=\"sk-toggleable__control sk-hidden--visually\" id=\"sk-estimator-id-60\" type=\"checkbox\" ><label for=\"sk-estimator-id-60\" class=\"sk-toggleable__label sk-toggleable__label-arrow\">Pipeline</label><div class=\"sk-toggleable__content\"><pre>Pipeline(steps=[(&#x27;kmeans_cluster&#x27;, AdicionaColClusters(k=4)),\n",
       "                (&#x27;rand_search&#x27;,\n",
       "                 RandomizedSearchCV(cv=5,\n",
       "                                    estimator=RandomForestRegressor(random_state=0),\n",
       "                                    n_iter=100, n_jobs=-1,\n",
       "                                    param_distributions={&#x27;max_depth&#x27;: &lt;scipy.stats._distn_infrastructure.rv_discrete_frozen object at 0x7f321750ee30&gt;,\n",
       "                                                         &#x27;max_features&#x27;: &lt;scipy.stats._distn_infrastructure.rv_discrete_frozen object at 0x7f321745acb0&gt;,\n",
       "                                                         &#x27;n_estimators&#x27;: &lt;scipy.stats._distn_infrastructure.rv_discrete_frozen object at 0x7f32175e6bf0&gt;},\n",
       "                                    random_state=10000, refit=False,\n",
       "                                    scoring=&#x27;neg_mean_squared_error&#x27;,\n",
       "                                    verbose=1))])</pre></div></div></div><div class=\"sk-serial\"><div class=\"sk-item\"><div class=\"sk-estimator sk-toggleable\"><input class=\"sk-toggleable__control sk-hidden--visually\" id=\"sk-estimator-id-61\" type=\"checkbox\" ><label for=\"sk-estimator-id-61\" class=\"sk-toggleable__label sk-toggleable__label-arrow\">AdicionaColClusters</label><div class=\"sk-toggleable__content\"><pre>AdicionaColClusters(k=4)</pre></div></div></div><div class=\"sk-item sk-dashed-wrapped\"><div class=\"sk-label-container\"><div class=\"sk-label sk-toggleable\"><input class=\"sk-toggleable__control sk-hidden--visually\" id=\"sk-estimator-id-62\" type=\"checkbox\" ><label for=\"sk-estimator-id-62\" class=\"sk-toggleable__label sk-toggleable__label-arrow\">rand_search: RandomizedSearchCV</label><div class=\"sk-toggleable__content\"><pre>RandomizedSearchCV(cv=5, estimator=RandomForestRegressor(random_state=0),\n",
       "                   n_iter=100, n_jobs=-1,\n",
       "                   param_distributions={&#x27;max_depth&#x27;: &lt;scipy.stats._distn_infrastructure.rv_discrete_frozen object at 0x7f321750ee30&gt;,\n",
       "                                        &#x27;max_features&#x27;: &lt;scipy.stats._distn_infrastructure.rv_discrete_frozen object at 0x7f321745acb0&gt;,\n",
       "                                        &#x27;n_estimators&#x27;: &lt;scipy.stats._distn_infrastructure.rv_discrete_frozen object at 0x7f32175e6bf0&gt;},\n",
       "                   random_state=10000, refit=False,\n",
       "                   scoring=&#x27;neg_mean_squared_error&#x27;, verbose=1)</pre></div></div></div><div class=\"sk-parallel\"><div class=\"sk-parallel-item\"><div class=\"sk-item\"><div class=\"sk-label-container\"><div class=\"sk-label sk-toggleable\"><input class=\"sk-toggleable__control sk-hidden--visually\" id=\"sk-estimator-id-63\" type=\"checkbox\" ><label for=\"sk-estimator-id-63\" class=\"sk-toggleable__label sk-toggleable__label-arrow\">estimator: RandomForestRegressor</label><div class=\"sk-toggleable__content\"><pre>RandomForestRegressor(random_state=0)</pre></div></div></div><div class=\"sk-serial\"><div class=\"sk-item\"><div class=\"sk-estimator sk-toggleable\"><input class=\"sk-toggleable__control sk-hidden--visually\" id=\"sk-estimator-id-64\" type=\"checkbox\" ><label for=\"sk-estimator-id-64\" class=\"sk-toggleable__label sk-toggleable__label-arrow\">RandomForestRegressor</label><div class=\"sk-toggleable__content\"><pre>RandomForestRegressor(random_state=0)</pre></div></div></div></div></div></div></div></div></div></div></div></div>"
      ],
      "text/plain": [
       "Pipeline(steps=[('kmeans_cluster', AdicionaColClusters(k=4)),\n",
       "                ('rand_search',\n",
       "                 RandomizedSearchCV(cv=5,\n",
       "                                    estimator=RandomForestRegressor(random_state=0),\n",
       "                                    n_iter=100, n_jobs=-1,\n",
       "                                    param_distributions={'max_depth': <scipy.stats._distn_infrastructure.rv_discrete_frozen object at 0x7f321750ee30>,\n",
       "                                                         'max_features': <scipy.stats._distn_infrastructure.rv_discrete_frozen object at 0x7f321745acb0>,\n",
       "                                                         'n_estimators': <scipy.stats._distn_infrastructure.rv_discrete_frozen object at 0x7f32175e6bf0>},\n",
       "                                    random_state=10000, refit=False,\n",
       "                                    scoring='neg_mean_squared_error',\n",
       "                                    verbose=1))])"
      ]
     },
     "execution_count": 325,
     "metadata": {},
     "output_type": "execute_result"
    }
   ],
   "source": [
    "# Cria o pipeline\n",
    "# ===========================================\n",
    "\n",
    "# número de clusters\n",
    "k=4\n",
    "\n",
    "# modelo de regressão\n",
    "rand_forest= RandomForestRegressor(random_state=0,\n",
    "                                   max_samples=None,\n",
    "                                   bootstrap=True,)\n",
    "\n",
    "# espaço de hiperparametros\n",
    "param_grid = dict(\n",
    "    max_depth=stats.randint(14, 18),\n",
    "    max_features=stats.randint(2, 6),\n",
    "    n_estimators=stats.randint(30, 50),\n",
    "    )\n",
    "\n",
    "\n",
    "# treina o modelo\n",
    "search_pipe= Pipeline([\n",
    "    ('kmeans_cluster', trans_ml.AdicionaColClusters(k, rand=1000)),\n",
    "    ('rand_search', RandomizedSearchCV(rand_forest,\n",
    "                            param_grid,\n",
    "                            scoring='neg_mean_squared_error',\n",
    "                            cv=5,\n",
    "                            n_iter = 100,        #numero de pontos no espaço de hiperp. testados\n",
    "                            random_state=10000,  #semente pra gerador de num. alat.\n",
    "                            n_jobs=-1,           #número de CPU's usados em paralelo\n",
    "                            verbose=1,\n",
    "                            refit=False))\n",
    "    ])\n",
    "\n",
    "# fita\n",
    "search_pipe.fit(X_train, y_train)\n"
   ]
  },
  {
   "cell_type": "code",
   "execution_count": 243,
   "id": "1430b72c",
   "metadata": {},
   "outputs": [],
   "source": [
    "# Salva o modelo\n",
    "# ========================\n",
    "t=joblib.dump(search_pipe, path_modelos/\"kmeans_4_randForest_.joblib\")"
   ]
  },
  {
   "cell_type": "markdown",
   "id": "a00a416a",
   "metadata": {},
   "source": [
    "## 4.8 - XGBoost com clusterização (k=4)<a id=\"xg_clus_4\">\n",
    "[Índice](#ind)"
   ]
  },
  {
   "cell_type": "code",
   "execution_count": 483,
   "id": "837fc3f2",
   "metadata": {},
   "outputs": [
    {
     "name": "stdout",
     "output_type": "stream",
     "text": [
      "Once deleted, variables cannot be recovered. Proceed (y/[n])? y\n"
     ]
    }
   ],
   "source": [
    "%reset"
   ]
  },
  {
   "cell_type": "code",
   "execution_count": 488,
   "id": "424b245b",
   "metadata": {},
   "outputs": [
    {
     "name": "stdout",
     "output_type": "stream",
     "text": [
      "Fitting 5 folds for each of 100 candidates, totalling 500 fits\n"
     ]
    },
    {
     "data": {
      "text/html": [
       "<style>#sk-container-id-73 {color: black;background-color: white;}#sk-container-id-73 pre{padding: 0;}#sk-container-id-73 div.sk-toggleable {background-color: white;}#sk-container-id-73 label.sk-toggleable__label {cursor: pointer;display: block;width: 100%;margin-bottom: 0;padding: 0.3em;box-sizing: border-box;text-align: center;}#sk-container-id-73 label.sk-toggleable__label-arrow:before {content: \"▸\";float: left;margin-right: 0.25em;color: #696969;}#sk-container-id-73 label.sk-toggleable__label-arrow:hover:before {color: black;}#sk-container-id-73 div.sk-estimator:hover label.sk-toggleable__label-arrow:before {color: black;}#sk-container-id-73 div.sk-toggleable__content {max-height: 0;max-width: 0;overflow: hidden;text-align: left;background-color: #f0f8ff;}#sk-container-id-73 div.sk-toggleable__content pre {margin: 0.2em;color: black;border-radius: 0.25em;background-color: #f0f8ff;}#sk-container-id-73 input.sk-toggleable__control:checked~div.sk-toggleable__content {max-height: 200px;max-width: 100%;overflow: auto;}#sk-container-id-73 input.sk-toggleable__control:checked~label.sk-toggleable__label-arrow:before {content: \"▾\";}#sk-container-id-73 div.sk-estimator input.sk-toggleable__control:checked~label.sk-toggleable__label {background-color: #d4ebff;}#sk-container-id-73 div.sk-label input.sk-toggleable__control:checked~label.sk-toggleable__label {background-color: #d4ebff;}#sk-container-id-73 input.sk-hidden--visually {border: 0;clip: rect(1px 1px 1px 1px);clip: rect(1px, 1px, 1px, 1px);height: 1px;margin: -1px;overflow: hidden;padding: 0;position: absolute;width: 1px;}#sk-container-id-73 div.sk-estimator {font-family: monospace;background-color: #f0f8ff;border: 1px dotted black;border-radius: 0.25em;box-sizing: border-box;margin-bottom: 0.5em;}#sk-container-id-73 div.sk-estimator:hover {background-color: #d4ebff;}#sk-container-id-73 div.sk-parallel-item::after {content: \"\";width: 100%;border-bottom: 1px solid gray;flex-grow: 1;}#sk-container-id-73 div.sk-label:hover label.sk-toggleable__label {background-color: #d4ebff;}#sk-container-id-73 div.sk-serial::before {content: \"\";position: absolute;border-left: 1px solid gray;box-sizing: border-box;top: 0;bottom: 0;left: 50%;z-index: 0;}#sk-container-id-73 div.sk-serial {display: flex;flex-direction: column;align-items: center;background-color: white;padding-right: 0.2em;padding-left: 0.2em;position: relative;}#sk-container-id-73 div.sk-item {position: relative;z-index: 1;}#sk-container-id-73 div.sk-parallel {display: flex;align-items: stretch;justify-content: center;background-color: white;position: relative;}#sk-container-id-73 div.sk-item::before, #sk-container-id-73 div.sk-parallel-item::before {content: \"\";position: absolute;border-left: 1px solid gray;box-sizing: border-box;top: 0;bottom: 0;left: 50%;z-index: -1;}#sk-container-id-73 div.sk-parallel-item {display: flex;flex-direction: column;z-index: 1;position: relative;background-color: white;}#sk-container-id-73 div.sk-parallel-item:first-child::after {align-self: flex-end;width: 50%;}#sk-container-id-73 div.sk-parallel-item:last-child::after {align-self: flex-start;width: 50%;}#sk-container-id-73 div.sk-parallel-item:only-child::after {width: 0;}#sk-container-id-73 div.sk-dashed-wrapped {border: 1px dashed gray;margin: 0 0.4em 0.5em 0.4em;box-sizing: border-box;padding-bottom: 0.4em;background-color: white;}#sk-container-id-73 div.sk-label label {font-family: monospace;font-weight: bold;display: inline-block;line-height: 1.2em;}#sk-container-id-73 div.sk-label-container {text-align: center;}#sk-container-id-73 div.sk-container {/* jupyter's `normalize.less` sets `[hidden] { display: none; }` but bootstrap.min.css set `[hidden] { display: none !important; }` so we also need the `!important` here to be able to override the default hidden behavior on the sphinx rendered scikit-learn.org. See: https://github.com/scikit-learn/scikit-learn/issues/21755 */display: inline-block !important;position: relative;}#sk-container-id-73 div.sk-text-repr-fallback {display: none;}</style><div id=\"sk-container-id-73\" class=\"sk-top-container\"><div class=\"sk-text-repr-fallback\"><pre>Pipeline(steps=[(&#x27;kmeans_cluster&#x27;, AdicionaColClusters(k=4)),\n",
       "                (&#x27;rand_search&#x27;,\n",
       "                 RandomizedSearchCV(cv=5,\n",
       "                                    estimator=XGBRegressor(base_score=None,\n",
       "                                                           booster=None,\n",
       "                                                           callbacks=None,\n",
       "                                                           colsample_bylevel=None,\n",
       "                                                           colsample_bynode=None,\n",
       "                                                           colsample_bytree=None,\n",
       "                                                           early_stopping_rounds=None,\n",
       "                                                           enable_categorical=False,\n",
       "                                                           eval_metric=None,\n",
       "                                                           feature_types=None,\n",
       "                                                           gamma=None,\n",
       "                                                           gpu_id=None,\n",
       "                                                           grow_p...\n",
       "                                                         &#x27;colsample_bytree&#x27;: &lt;scipy.stats._distn_infrastructure.rv_continuous_frozen object at 0x7f32174a5b70&gt;,\n",
       "                                                         &#x27;learning_rate&#x27;: &lt;scipy.stats._distn_infrastructure.rv_continuous_frozen object at 0x7f321e3d71c0&gt;,\n",
       "                                                         &#x27;max_bin&#x27;: [255, 256,\n",
       "                                                                     257],\n",
       "                                                         &#x27;max_depth&#x27;: range(2, 12),\n",
       "                                                         &#x27;max_leaves&#x27;: [1, 2,\n",
       "                                                                        3],\n",
       "                                                         &#x27;n_estimators&#x27;: range(10, 50)},\n",
       "                                    random_state=1000, refit=False,\n",
       "                                    scoring=&#x27;neg_mean_squared_error&#x27;,\n",
       "                                    verbose=1))])</pre><b>In a Jupyter environment, please rerun this cell to show the HTML representation or trust the notebook. <br />On GitHub, the HTML representation is unable to render, please try loading this page with nbviewer.org.</b></div><div class=\"sk-container\" hidden><div class=\"sk-item sk-dashed-wrapped\"><div class=\"sk-label-container\"><div class=\"sk-label sk-toggleable\"><input class=\"sk-toggleable__control sk-hidden--visually\" id=\"sk-estimator-id-172\" type=\"checkbox\" ><label for=\"sk-estimator-id-172\" class=\"sk-toggleable__label sk-toggleable__label-arrow\">Pipeline</label><div class=\"sk-toggleable__content\"><pre>Pipeline(steps=[(&#x27;kmeans_cluster&#x27;, AdicionaColClusters(k=4)),\n",
       "                (&#x27;rand_search&#x27;,\n",
       "                 RandomizedSearchCV(cv=5,\n",
       "                                    estimator=XGBRegressor(base_score=None,\n",
       "                                                           booster=None,\n",
       "                                                           callbacks=None,\n",
       "                                                           colsample_bylevel=None,\n",
       "                                                           colsample_bynode=None,\n",
       "                                                           colsample_bytree=None,\n",
       "                                                           early_stopping_rounds=None,\n",
       "                                                           enable_categorical=False,\n",
       "                                                           eval_metric=None,\n",
       "                                                           feature_types=None,\n",
       "                                                           gamma=None,\n",
       "                                                           gpu_id=None,\n",
       "                                                           grow_p...\n",
       "                                                         &#x27;colsample_bytree&#x27;: &lt;scipy.stats._distn_infrastructure.rv_continuous_frozen object at 0x7f32174a5b70&gt;,\n",
       "                                                         &#x27;learning_rate&#x27;: &lt;scipy.stats._distn_infrastructure.rv_continuous_frozen object at 0x7f321e3d71c0&gt;,\n",
       "                                                         &#x27;max_bin&#x27;: [255, 256,\n",
       "                                                                     257],\n",
       "                                                         &#x27;max_depth&#x27;: range(2, 12),\n",
       "                                                         &#x27;max_leaves&#x27;: [1, 2,\n",
       "                                                                        3],\n",
       "                                                         &#x27;n_estimators&#x27;: range(10, 50)},\n",
       "                                    random_state=1000, refit=False,\n",
       "                                    scoring=&#x27;neg_mean_squared_error&#x27;,\n",
       "                                    verbose=1))])</pre></div></div></div><div class=\"sk-serial\"><div class=\"sk-item\"><div class=\"sk-estimator sk-toggleable\"><input class=\"sk-toggleable__control sk-hidden--visually\" id=\"sk-estimator-id-173\" type=\"checkbox\" ><label for=\"sk-estimator-id-173\" class=\"sk-toggleable__label sk-toggleable__label-arrow\">AdicionaColClusters</label><div class=\"sk-toggleable__content\"><pre>AdicionaColClusters(k=4)</pre></div></div></div><div class=\"sk-item sk-dashed-wrapped\"><div class=\"sk-label-container\"><div class=\"sk-label sk-toggleable\"><input class=\"sk-toggleable__control sk-hidden--visually\" id=\"sk-estimator-id-174\" type=\"checkbox\" ><label for=\"sk-estimator-id-174\" class=\"sk-toggleable__label sk-toggleable__label-arrow\">rand_search: RandomizedSearchCV</label><div class=\"sk-toggleable__content\"><pre>RandomizedSearchCV(cv=5,\n",
       "                   estimator=XGBRegressor(base_score=None, booster=None,\n",
       "                                          callbacks=None,\n",
       "                                          colsample_bylevel=None,\n",
       "                                          colsample_bynode=None,\n",
       "                                          colsample_bytree=None,\n",
       "                                          early_stopping_rounds=None,\n",
       "                                          enable_categorical=False,\n",
       "                                          eval_metric=None, feature_types=None,\n",
       "                                          gamma=None, gpu_id=None,\n",
       "                                          grow_policy=None,\n",
       "                                          importance_type=None,\n",
       "                                          interaction_constraints=None,\n",
       "                                          learning_rate=...\n",
       "                                        &#x27;colsample_bytree&#x27;: &lt;scipy.stats._distn_infrastructure.rv_continuous_frozen object at 0x7f32174a5b70&gt;,\n",
       "                                        &#x27;learning_rate&#x27;: &lt;scipy.stats._distn_infrastructure.rv_continuous_frozen object at 0x7f321e3d71c0&gt;,\n",
       "                                        &#x27;max_bin&#x27;: [255, 256, 257],\n",
       "                                        &#x27;max_depth&#x27;: range(2, 12),\n",
       "                                        &#x27;max_leaves&#x27;: [1, 2, 3],\n",
       "                                        &#x27;n_estimators&#x27;: range(10, 50)},\n",
       "                   random_state=1000, refit=False,\n",
       "                   scoring=&#x27;neg_mean_squared_error&#x27;, verbose=1)</pre></div></div></div><div class=\"sk-parallel\"><div class=\"sk-parallel-item\"><div class=\"sk-item\"><div class=\"sk-label-container\"><div class=\"sk-label sk-toggleable\"><input class=\"sk-toggleable__control sk-hidden--visually\" id=\"sk-estimator-id-175\" type=\"checkbox\" ><label for=\"sk-estimator-id-175\" class=\"sk-toggleable__label sk-toggleable__label-arrow\">estimator: XGBRegressor</label><div class=\"sk-toggleable__content\"><pre>XGBRegressor(base_score=None, booster=None, callbacks=None,\n",
       "             colsample_bylevel=None, colsample_bynode=None,\n",
       "             colsample_bytree=None, early_stopping_rounds=None,\n",
       "             enable_categorical=False, eval_metric=None, feature_types=None,\n",
       "             gamma=None, gpu_id=None, grow_policy=None, importance_type=None,\n",
       "             interaction_constraints=None, learning_rate=None, max_bin=None,\n",
       "             max_cat_threshold=None, max_cat_to_onehot=None,\n",
       "             max_delta_step=None, max_depth=None, max_leaves=None,\n",
       "             min_child_weight=None, missing=nan, monotone_constraints=None,\n",
       "             n_estimators=100, n_jobs=None, num_parallel_tree=None,\n",
       "             predictor=None, random_state=None, ...)</pre></div></div></div><div class=\"sk-serial\"><div class=\"sk-item\"><div class=\"sk-estimator sk-toggleable\"><input class=\"sk-toggleable__control sk-hidden--visually\" id=\"sk-estimator-id-176\" type=\"checkbox\" ><label for=\"sk-estimator-id-176\" class=\"sk-toggleable__label sk-toggleable__label-arrow\">XGBRegressor</label><div class=\"sk-toggleable__content\"><pre>XGBRegressor(base_score=None, booster=None, callbacks=None,\n",
       "             colsample_bylevel=None, colsample_bynode=None,\n",
       "             colsample_bytree=None, early_stopping_rounds=None,\n",
       "             enable_categorical=False, eval_metric=None, feature_types=None,\n",
       "             gamma=None, gpu_id=None, grow_policy=None, importance_type=None,\n",
       "             interaction_constraints=None, learning_rate=None, max_bin=None,\n",
       "             max_cat_threshold=None, max_cat_to_onehot=None,\n",
       "             max_delta_step=None, max_depth=None, max_leaves=None,\n",
       "             min_child_weight=None, missing=nan, monotone_constraints=None,\n",
       "             n_estimators=100, n_jobs=None, num_parallel_tree=None,\n",
       "             predictor=None, random_state=None, ...)</pre></div></div></div></div></div></div></div></div></div></div></div></div>"
      ],
      "text/plain": [
       "Pipeline(steps=[('kmeans_cluster', AdicionaColClusters(k=4)),\n",
       "                ('rand_search',\n",
       "                 RandomizedSearchCV(cv=5,\n",
       "                                    estimator=XGBRegressor(base_score=None,\n",
       "                                                           booster=None,\n",
       "                                                           callbacks=None,\n",
       "                                                           colsample_bylevel=None,\n",
       "                                                           colsample_bynode=None,\n",
       "                                                           colsample_bytree=None,\n",
       "                                                           early_stopping_rounds=None,\n",
       "                                                           enable_categorical=False,\n",
       "                                                           eval_metric=None,\n",
       "                                                           feature_types=None,\n",
       "                                                           gamma=None,\n",
       "                                                           gpu_id=None,\n",
       "                                                           grow_p...\n",
       "                                                         'colsample_bytree': <scipy.stats._distn_infrastructure.rv_continuous_frozen object at 0x7f32174a5b70>,\n",
       "                                                         'learning_rate': <scipy.stats._distn_infrastructure.rv_continuous_frozen object at 0x7f321e3d71c0>,\n",
       "                                                         'max_bin': [255, 256,\n",
       "                                                                     257],\n",
       "                                                         'max_depth': range(2, 12),\n",
       "                                                         'max_leaves': [1, 2,\n",
       "                                                                        3],\n",
       "                                                         'n_estimators': range(10, 50)},\n",
       "                                    random_state=1000, refit=False,\n",
       "                                    scoring='neg_mean_squared_error',\n",
       "                                    verbose=1))])"
      ]
     },
     "execution_count": 488,
     "metadata": {},
     "output_type": "execute_result"
    }
   ],
   "source": [
    "# Cria o pipeline\n",
    "# ===========================================\n",
    "\n",
    "# número de clusters\n",
    "k=4\n",
    "\n",
    "# instancia do modelos\n",
    "modelo = xgb.XGBRegressor()\n",
    "\n",
    "\n",
    "# espaço de hiperparametros\n",
    "param_grid = {    \n",
    "    'max_depth': range(2, 12),\n",
    "    'n_estimators': range(10,50),\n",
    "    'colsample_bytree': stats.uniform(0.3, 0.7),\n",
    "    'learning_rate':stats.uniform(0.2, 0.6),    \n",
    "    'max_leaves':[1,2,3],\n",
    "    'max_bin': [255,256,257],\n",
    "    'base_score': stats.uniform(0.2,0.7)\n",
    "}\n",
    "\n",
    "\n",
    "\n",
    "# treina o modelo\n",
    "search_pipe= Pipeline([\n",
    "    ('kmeans_cluster', trans_ml.AdicionaColClusters(k,\n",
    "                                                    rand=1000)),\n",
    "    ('rand_search', RandomizedSearchCV(modelo,\n",
    "                            param_grid,\n",
    "                            scoring='neg_mean_squared_error',\n",
    "                            cv=5,\n",
    "                            n_iter = 100,        #numero de pontos no espaço de hiperp. testados\n",
    "                            random_state=1000,   #semente pra gerador de num. alat.\n",
    "                            n_jobs=-1,           #número de CPU's usados em paralelo\n",
    "                            verbose=1,\n",
    "                            refit=False))\n",
    "    ])\n",
    "\n",
    "# fita\n",
    "search_pipe.fit(X_train, y_train)"
   ]
  },
  {
   "cell_type": "code",
   "execution_count": 490,
   "id": "84b2d635",
   "metadata": {},
   "outputs": [],
   "source": [
    "# Salva o modelo\n",
    "# ========================\n",
    "t=joblib.dump(search_pipe, path_modelos/\"kmeans_4_XGBoost_.joblib\")\n"
   ]
  },
  {
   "cell_type": "markdown",
   "id": "9ae1eac1",
   "metadata": {},
   "source": [
    "## 4.9 - Random forest com PCA<a id=\"rf_pca\"></a>\n",
    "[Índice](#ind)"
   ]
  },
  {
   "cell_type": "markdown",
   "id": "953d71e9",
   "metadata": {},
   "source": [
    "## 4.10 - XGBoost com PCA<a id=\"xg_pca\"></a>\n",
    "[Índice](#ind)"
   ]
  }
 ],
 "metadata": {
  "hide_input": false,
  "kernelspec": {
   "display_name": "Python 3 (ipykernel)",
   "language": "python",
   "name": "python3"
  },
  "language_info": {
   "codemirror_mode": {
    "name": "ipython",
    "version": 3
   },
   "file_extension": ".py",
   "mimetype": "text/x-python",
   "name": "python",
   "nbconvert_exporter": "python",
   "pygments_lexer": "ipython3",
   "version": "3.10.6"
  }
 },
 "nbformat": 4,
 "nbformat_minor": 5
}
