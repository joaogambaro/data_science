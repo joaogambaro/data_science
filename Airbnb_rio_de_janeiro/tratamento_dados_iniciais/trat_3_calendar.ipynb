{
 "cells": [
  {
   "cell_type": "markdown",
   "id": "6eb1eea7",
   "metadata": {},
   "source": [
    "# Índice<a id=\"ind\"></a>\n",
    "\n",
    "[**Introdução**](#limp_ini)\n",
    "\n",
    "[**Etapa 1**](#etapa1)\n",
    "* [Análise de uma amostra: identificação tipos mínimos e transformações](#ana_amo)\n",
    "    - [Identificação das transformações possíveis](#ident_trans)\n",
    "    - [Identificação dos subtipos mínimos](#obt_tipo_min)       \n",
    "        \n",
    "[**Etapa 2**](#etapa2)\n",
    "* [Carregamento e tratamento dos dados totais](#carr_tot)\n",
    "* [Comparação entre dados com e sem optimização](#comp)"
   ]
  },
  {
   "cell_type": "code",
   "execution_count": null,
   "id": "fe5e5a7d",
   "metadata": {},
   "outputs": [],
   "source": [
    "# instala o pacote \"optimizacaoDF\"\n",
    "!pip install git+https://github.com/joaogambaro/optimizacao_dataframes"
   ]
  },
  {
   "cell_type": "code",
   "execution_count": 1,
   "id": "52193a23",
   "metadata": {},
   "outputs": [],
   "source": [
    "import pandas as pd\n",
    "import numpy as np\n",
    "from pathlib import Path\n",
    "\n",
    "import optimizacaoDF.coleta_amostra as amo\n",
    "import optimizacaoDF.analise_resultados as ana\n",
    "import optimizacaoDF.optimizacao_dataframe as opt\n",
    "\n",
    "import os\n",
    "import importlib\n",
    "import warnings\n",
    "\n",
    "pd.pandas.set_option('display.max_columns', None)\n",
    "warnings.filterwarnings(\"ignore\")"
   ]
  },
  {
   "cell_type": "markdown",
   "id": "4916c675",
   "metadata": {},
   "source": [
    "# Introdução<a id=\"limp_ini\"></a>\n",
    "[Índice](#ind)\n",
    "\n",
    "O objetivo central deste notebook foi desenvolver uma rotina para abrir um arquivo \".csv\" com um   consumo reduzido de memória.  A redução foi obtida identificando as colunas de dados que pode ser escritas com subtipos de variáveis menores.\n",
    "\n",
    "    Exemplo: para os dados abaixo, a coluna \"idade\" foi carregada com o tipo `float64`, \"nome\" com o tipo `object` e \"peso\" com o tipo `float64`. Contudo, estes tipos necessitam de mais memória do que o necessário para o armazenamento dos dados em questão. Para estes dados,  por exemplo, poderíamos escrever as colunas com os tipo, int8 para \"idade\", \"classify\" para \"nome\" e float32 para \"peso\" sem perda de informação, reduzindo o uso de memória.\n",
    "\n",
    "|idade(float64)|nome(object) | peso(float64)|\n",
    "|--|--|--|\n",
    "|34.0| João|64.5 |\n",
    "|32.0| Camila|75.8 |\n",
    "|31.0| José|65.3 |\n",
    "|26.0| Ana|58.0 |\n",
    "    \n",
    "Este trabalho foi dividido em etapas\n",
    "\n",
    "**Etapa 1: analisar um pequena amostra dos dados**\n",
    "\n",
    "Nesta etapa é carregado em um dataframe com uma amostra dos dados completos. O dataframe contém somente algumas linhas do arquivo original, que podem ser escolhidas aleatoriamente ou em sequência. A amostra selecionada é usada para identificar os subtipos mínimos de cada coluna e as transformações que podem ser feitas.\n",
    "\n",
    "**Etapa 2: carregamento dos dados totais**\n",
    "\n",
    "Nesta etapa os dados são carregados utilizando o subtipos mínimos identificados na etapa 1. Depois do carregamento, as transformações identificadas na etapa 1 são aplicadas e, por final, uma nova identificação de subtipos é feita. Estes últimos passos  podem reduzir ainda mais o tamanho do dataframe  na memória. O resultado final é salvo em um novo arquivo.\n",
    "\n",
    "\n",
    "**Observações**\n",
    "- para auxiliar nos processo das etapa 1 e 2 foi criado o pacote \"optimizacaoDF\" que foi instalado no incio do notebook\n",
    "\n",
    "- Quando os dados são salvos no final do processo, os subtipos que foram definidos não são salvos no arquivo. Ou seja, quando os dados forem abertos outras vezes, devemos novamente informar os tipos para reduzir o consumo de memória. Ainda assim, é importante salvar os o resultado final em um arquivo, pois muitos arquivos grandes possuem linhas em branco que serão eliminadas com o salvamento do resultado final. Além disso, as demais transformações feitas nos dados ficarão salvas com o novo arquivo.\n",
    "\n",
    "\n"
   ]
  },
  {
   "cell_type": "markdown",
   "id": "60d36f4c",
   "metadata": {},
   "source": [
    "# Etapa 1<a id=\"etapa1\"></a>\n",
    "[Índice](#ind)\n",
    "\n",
    "## Análise de uma amostra: identificação tipos mínimos e transformações<a id=\"ana_amo\"></a>\n",
    "\n",
    "- Identificação das transformações possíveis:\n",
    "\n",
    "Neste processo são identificadas algumas transformações possíveis. Como um exemplo, temos a coluna \"price\" que contém strings com valores de preço, (como \"$500.00\") que pode ter seus valores transformados para números.  A identificação é feita analisando individualmente cada coluna, e as funções das transformações são organizadas em um dicionário.\n",
    "    \n",
    "\n",
    "- Identificação dos subtipos mínimos: \n",
    "\n",
    "Este processo é feito usando o método `obtem_subtipos` do pacote `optimizacaoDF`, que retorna um dicionário com os nomes das colunas e os subtipos mínimos.\n"
   ]
  },
  {
   "cell_type": "code",
   "execution_count": 3,
   "id": "214c5d3c",
   "metadata": {},
   "outputs": [
    {
     "name": "stdout",
     "output_type": "stream",
     "text": [
      "df.shape:  (50000, 7)\n"
     ]
    },
    {
     "data": {
      "text/html": [
       "<div>\n",
       "<style scoped>\n",
       "    .dataframe tbody tr th:only-of-type {\n",
       "        vertical-align: middle;\n",
       "    }\n",
       "\n",
       "    .dataframe tbody tr th {\n",
       "        vertical-align: top;\n",
       "    }\n",
       "\n",
       "    .dataframe thead th {\n",
       "        text-align: right;\n",
       "    }\n",
       "</style>\n",
       "<table border=\"1\" class=\"dataframe\">\n",
       "  <thead>\n",
       "    <tr style=\"text-align: right;\">\n",
       "      <th></th>\n",
       "      <th>listing_id</th>\n",
       "      <th>date</th>\n",
       "      <th>available</th>\n",
       "      <th>price</th>\n",
       "      <th>adjusted_price</th>\n",
       "      <th>minimum_nights</th>\n",
       "      <th>maximum_nights</th>\n",
       "    </tr>\n",
       "  </thead>\n",
       "  <tbody>\n",
       "    <tr>\n",
       "      <th>0</th>\n",
       "      <td>53344884</td>\n",
       "      <td>2022-09-22</td>\n",
       "      <td>t</td>\n",
       "      <td>$3,500.00</td>\n",
       "      <td>$3,500.00</td>\n",
       "      <td>3.0</td>\n",
       "      <td>365.0</td>\n",
       "    </tr>\n",
       "    <tr>\n",
       "      <th>1</th>\n",
       "      <td>53344884</td>\n",
       "      <td>2022-09-23</td>\n",
       "      <td>t</td>\n",
       "      <td>$3,500.00</td>\n",
       "      <td>$3,500.00</td>\n",
       "      <td>3.0</td>\n",
       "      <td>365.0</td>\n",
       "    </tr>\n",
       "    <tr>\n",
       "      <th>2</th>\n",
       "      <td>53344884</td>\n",
       "      <td>2022-09-24</td>\n",
       "      <td>t</td>\n",
       "      <td>$3,500.00</td>\n",
       "      <td>$3,500.00</td>\n",
       "      <td>3.0</td>\n",
       "      <td>365.0</td>\n",
       "    </tr>\n",
       "  </tbody>\n",
       "</table>\n",
       "</div>"
      ],
      "text/plain": [
       "   listing_id        date available      price adjusted_price  minimum_nights  \\\n",
       "0    53344884  2022-09-22         t  $3,500.00      $3,500.00             3.0   \n",
       "1    53344884  2022-09-23         t  $3,500.00      $3,500.00             3.0   \n",
       "2    53344884  2022-09-24         t  $3,500.00      $3,500.00             3.0   \n",
       "\n",
       "   maximum_nights  \n",
       "0           365.0  \n",
       "1           365.0  \n",
       "2           365.0  "
      ]
     },
     "metadata": {},
     "output_type": "display_data"
    }
   ],
   "source": [
    "# caminho do arquivo com dados\n",
    "current_path = os.getcwd()\n",
    "file_name=Path(current_path)/\"dados_originais/3_calendar.csv\"\n",
    "\n",
    "# coleta uma amostra(primeiras linhas)\n",
    "tamAm=50000\n",
    "df=amo.coleta_amostr(tamAm, file_name, is_rand_sample=False)\n",
    "\n",
    "print(\"df.shape: \",df.shape)\n",
    "display(df.head(3))"
   ]
  },
  {
   "cell_type": "markdown",
   "id": "62c42c46",
   "metadata": {},
   "source": [
    "\n",
    "### Identificação das transformações possíveis <a id=\"ident_trans\"></a>\n",
    "\n",
    "Colunas com transformações:\n",
    "\n",
    "\n",
    "**price:** os dados originais são strings com preços ( exemplo: \"$5,000.00\"). Na transformação, as strings foram transformadas em números floats (para o exemplo temos 5000.00).\n",
    "\n",
    "**available:** os dados originais são strigns com 'f' e 't' que indicam False ou True. Na transformação, 'f' e 't' viram respectivamente os inteiros 0 e 1.\n",
    "\n",
    "**adjusted_price:** mesma transformação de \"price\" .\n",
    "\n"
   ]
  },
  {
   "cell_type": "code",
   "execution_count": 3,
   "id": "027eff55",
   "metadata": {},
   "outputs": [],
   "source": [
    "dict_transf={\n",
    "    'price':\n",
    "        lambda x: float(x.replace(\"$\",\"\").removesuffix(\".00\").replace(\",\",\"\"))\\\n",
    "                  if not pd.isna(x)\\\n",
    "                  and x.replace(\"$\",\"\")\\\n",
    "                       .removesuffix(\".00\")\\\n",
    "                       .replace(\",\",\"\").isdigit()\\\n",
    "                  else float('NaN'),\n",
    "    \n",
    "    'available':\n",
    "        lambda x: 0 if x=='f' \\\n",
    "                    else (1 if x=='t' else float('NaN')),\n",
    "    \n",
    "    'adjusted_price':\n",
    "        lambda x: float(x.replace(\"$\",\"\").removesuffix(\".00\").replace(\",\",\"\"))\\\n",
    "                  if not pd.isna(x)\\\n",
    "                  and x.replace(\"$\",\"\")\\\n",
    "                       .removesuffix(\".00\")\\\n",
    "                       .replace(\",\",\"\").isdigit()\\\n",
    "                  else float('NaN')\n",
    "    \n",
    "}"
   ]
  },
  {
   "cell_type": "markdown",
   "id": "16c2a641",
   "metadata": {},
   "source": [
    "### Identificação dos subtipos mínimos<a id=\"obt_tipo_min\"></a>\n",
    ">**Observação:** em `obtem_subtipos` foi usado `\"can_float_be_int=False\"` para que colunas com float nunca sejam identificadas como int (se fosse usado True o número 23.00, por exemplo, poderia ser identificado como o int, 23). Como estamos lidando com uma amostra, a melhor opção é usar False para este parâmetro. Isto porque com True o método pode associar uma coluna float como int para a amostra, enquanto que nos dados totais pode ser que isto seja impossível. Este fato pode acontecer, por exemplo, quando quando na amostra não existem dados Nan (que são float), mas nos dados totais existem."
   ]
  },
  {
   "cell_type": "code",
   "execution_count": 4,
   "id": "85f47df9",
   "metadata": {},
   "outputs": [
    {
     "data": {
      "text/plain": [
       "{'listing_id': 'uint64',\n",
       " 'date': 'category',\n",
       " 'available': 'category',\n",
       " 'price': 'category',\n",
       " 'adjusted_price': 'category',\n",
       " 'minimum_nights': 'float32',\n",
       " 'maximum_nights': 'float32'}"
      ]
     },
     "execution_count": 4,
     "metadata": {},
     "output_type": "execute_result"
    }
   ],
   "source": [
    "# obtem os subtipos minimos\n",
    "dict_sub = opt.obtem_subtipos(df, can_float_be_int=False)\n",
    "dict_sub"
   ]
  },
  {
   "cell_type": "markdown",
   "id": "df7d3356",
   "metadata": {},
   "source": [
    "# Etapa 2<a id=\"etapa2\"></a>\n",
    "[Índice](#ind)\n",
    "\n",
    "## Carregamento e tratamento dos dados totais<a id=\"carr_tot\"></a>\n",
    "\n",
    "Rotina seguida:\n",
    "- 1. Carrega os dados com os subtipos mínimos identificados com a amostra\n",
    "\n",
    "- 2. Aplica as transformações identificadas na amostra\n",
    "\n",
    "- 3. Obtém novamente os subtipos mínimos para os dados\n",
    "\n",
    ">**Observação:** Nesta etapa podemos encontrar novos subtipos mínimos, o que reduz ainda mais a memória usada pelo dataframe. Aqui, usamos o método `obtem_subtipos` com o parâmetro `\"can_float_be_int=True\"`, ou seja, agora tornamos possível números float serem identificados com int em situações adequadas. Ista escolha é feita porque o  método é aplicado nos dados completos e não em uma amostra.  Os novos subtipos que podem ocorrem devido a escolha do parâmetros 'can_float_be_int=True' e também devido aos dados transformados na etapa 2.\n",
    "\n",
    "- 4. transforma os dados para os subtipos mínimos  da etapa 3 e salva os dados em um arquivo.\n"
   ]
  },
  {
   "cell_type": "code",
   "execution_count": 5,
   "id": "0139630d",
   "metadata": {},
   "outputs": [
    {
     "name": "stdout",
     "output_type": "stream",
     "text": [
      "memória do df_original: 211.95Mb\n",
      "CPU times: user 6.42 s, sys: 2.11 s, total: 8.53 s\n",
      "Wall time: 13.8 s\n"
     ]
    }
   ],
   "source": [
    "%%time\n",
    "\n",
    "# 1. carrega os dados com os subtipos minimos\n",
    "df_total=pd.read_csv(file_name,\n",
    "                 low_memory=False,                 \n",
    "                 dtype = dict_sub    #dicionário com tranformações\n",
    "                )\n",
    "\n",
    "#Obs: não foi necessário selecionar colunas pois todas\n",
    "# as colunas serão carregadas\n",
    "\n",
    "\n",
    "# uso de memória\n",
    "mem_df_total = ana.uso_memoria(df_total)\n",
    "print(f'memória do df_original: {round(mem_df_total,2)}Mb')"
   ]
  },
  {
   "cell_type": "code",
   "execution_count": 6,
   "id": "e2e3d667",
   "metadata": {},
   "outputs": [
    {
     "name": "stdout",
     "output_type": "stream",
     "text": [
      "memória do df_original: 385.48Mb\n",
      "CPU times: user 177 ms, sys: 132 ms, total: 309 ms\n",
      "Wall time: 418 ms\n"
     ]
    }
   ],
   "source": [
    "%%time\n",
    "\n",
    "# 2. aplica as transformações\n",
    "opt.object_to_float(df_total,dict_transf,inplace=True)\n",
    "\n",
    "\n",
    "# uso de memória\n",
    "mem_df_total = ana.uso_memoria(df_total)\n",
    "print(f'memória do df_original: {round(mem_df_total,2)}Mb')\n"
   ]
  },
  {
   "cell_type": "code",
   "execution_count": 7,
   "id": "9fd58b6e",
   "metadata": {},
   "outputs": [
    {
     "name": "stdout",
     "output_type": "stream",
     "text": [
      "CPU times: user 23.7 s, sys: 789 ms, total: 24.4 s\n",
      "Wall time: 24.5 s\n"
     ]
    },
    {
     "data": {
      "text/plain": [
       "{'available': 'uint8', 'price': 'uint32', 'adjusted_price': 'uint32'}"
      ]
     },
     "execution_count": 7,
     "metadata": {},
     "output_type": "execute_result"
    }
   ],
   "source": [
    "%%time\n",
    "\n",
    "# 3. pesquisa novamente os subtipos mínimos\n",
    "dict_sub = opt.obtem_subtipos(df_total, can_float_be_int=True)\n",
    "dict_sub\n"
   ]
  },
  {
   "cell_type": "code",
   "execution_count": 8,
   "id": "befc2fa7",
   "metadata": {},
   "outputs": [
    {
     "name": "stdout",
     "output_type": "stream",
     "text": [
      "memória do df_original: 247.82Mb\n"
     ]
    }
   ],
   "source": [
    "# 4. transforma os dados para os subtipos mínimos \n",
    "opt.tranforma_tipos(df_total,dict_sub, inplace=True)\n",
    "\n",
    "# uso de memória\n",
    "mem_df_total = ana.uso_memoria(df_total)\n",
    "print(f'memória do df_original: {round(mem_df_total,2)}Mb')"
   ]
  },
  {
   "cell_type": "code",
   "execution_count": 5,
   "id": "dba25183",
   "metadata": {},
   "outputs": [
    {
     "name": "stdout",
     "output_type": "stream",
     "text": [
      "CPU times: user 169 µs, sys: 41 µs, total: 210 µs\n",
      "Wall time: 188 µs\n"
     ]
    }
   ],
   "source": [
    "%%time\n",
    "\n",
    "# salva o resultado final\n",
    "current_path = os.getcwd()\n",
    "path_root=Path(current_path).parent\n",
    "df_total.to_feather(path_root/\"dados/3_calendar_opt.feather\")\n"
   ]
  },
  {
   "cell_type": "markdown",
   "id": "fc2b8a7f",
   "metadata": {},
   "source": [
    "# Comparação entre dados com e sem optimização<a id=\"comp\"></a>\n",
    "[Índice](#ind)\n",
    "\n",
    "Para finalizar, demostro a eficácia do método usado. Com este objetivo foram carregados os dados completos sem a identificação dos subtipos e foi medido o consumo de memória para os dados com e sem o tratamento proposto. Fazendo isto, podemos verificar que há uma redução de 90.27% na alocação de memória para este arquivo.\n",
    "\n",
    "Também é mostrado uma comparação entre os tipos para os dados originais e para os dados com o tratamento. Esta comparação é feita pelo método `resultados_em_df` do pacote `optimizacaoDF`\n",
    "\n",
    ">**Observação:** a ideia do tratamento é não precisar carregar os dados completos com o seu consumo máximo de memória. Para isto, utilizamos uma amostra para identificar os subtipos usados no carregamento dos dados totais. Nesta seção, os dados totais foram carregados na sua forma menos eficiente somente para mostrar a eficácia dos métodos aplicados, mas ideia central é não precisar fazer este carregamento."
   ]
  },
  {
   "cell_type": "code",
   "execution_count": 6,
   "id": "4877cd23",
   "metadata": {},
   "outputs": [
    {
     "name": "stdout",
     "output_type": "stream",
     "text": [
      "memória do df_original: 2547.36Mb\n",
      "memória do df_final: 247.82Mb\n",
      "Porcentagem na redução de memória: 90.27%\n"
     ]
    },
    {
     "data": {
      "text/html": [
       "<div>\n",
       "<style scoped>\n",
       "    .dataframe tbody tr th:only-of-type {\n",
       "        vertical-align: middle;\n",
       "    }\n",
       "\n",
       "    .dataframe tbody tr th {\n",
       "        vertical-align: top;\n",
       "    }\n",
       "\n",
       "    .dataframe thead th {\n",
       "        text-align: right;\n",
       "    }\n",
       "</style>\n",
       "<table border=\"1\" class=\"dataframe\">\n",
       "  <thead>\n",
       "    <tr style=\"text-align: right;\">\n",
       "      <th></th>\n",
       "      <th>sem_mud</th>\n",
       "      <th>com_mud</th>\n",
       "    </tr>\n",
       "  </thead>\n",
       "  <tbody>\n",
       "    <tr>\n",
       "      <th>listing_id</th>\n",
       "      <td>int64</td>\n",
       "      <td>uint64</td>\n",
       "    </tr>\n",
       "    <tr>\n",
       "      <th>date</th>\n",
       "      <td>object</td>\n",
       "      <td>category</td>\n",
       "    </tr>\n",
       "    <tr>\n",
       "      <th>available</th>\n",
       "      <td>object</td>\n",
       "      <td>uint8</td>\n",
       "    </tr>\n",
       "    <tr>\n",
       "      <th>price</th>\n",
       "      <td>object</td>\n",
       "      <td>uint32</td>\n",
       "    </tr>\n",
       "    <tr>\n",
       "      <th>adjusted_price</th>\n",
       "      <td>object</td>\n",
       "      <td>uint32</td>\n",
       "    </tr>\n",
       "    <tr>\n",
       "      <th>minimum_nights</th>\n",
       "      <td>float64</td>\n",
       "      <td>float32</td>\n",
       "    </tr>\n",
       "    <tr>\n",
       "      <th>maximum_nights</th>\n",
       "      <td>float64</td>\n",
       "      <td>float32</td>\n",
       "    </tr>\n",
       "    <tr>\n",
       "      <th>uso_mem_MB</th>\n",
       "      <td>2547.362377</td>\n",
       "      <td>247.820896</td>\n",
       "    </tr>\n",
       "  </tbody>\n",
       "</table>\n",
       "</div>"
      ],
      "text/plain": [
       "                    sem_mud     com_mud\n",
       "listing_id            int64      uint64\n",
       "date                 object    category\n",
       "available            object       uint8\n",
       "price                object      uint32\n",
       "adjusted_price       object      uint32\n",
       "minimum_nights      float64     float32\n",
       "maximum_nights      float64     float32\n",
       "uso_mem_MB      2547.362377  247.820896"
      ]
     },
     "execution_count": 6,
     "metadata": {},
     "output_type": "execute_result"
    }
   ],
   "source": [
    "# le o arquivo original(sem tranformação e sem conversao de tipo)\n",
    "df_original = pd.read_csv(file_name,\n",
    "                          low_memory=False,                          \n",
    "                         )\n",
    "\n",
    "# le o arquivo com resultado final\n",
    "df_total= pd.read_feather(path_root/\"dados/3_calendar_opt.csv\")\n",
    "\n",
    "# redução de momória\n",
    "porc = ana.porc_reducao(df_original,df_total)*100\n",
    "mem_df_original = ana.uso_memoria(df_original)\n",
    "mem_df_final = ana.uso_memoria(df_total)\n",
    "\n",
    "print(f'memória do df_original: {round(mem_df_original,2)}Mb')\n",
    "print(f'memória do df_final: {round(mem_df_final,2)}Mb')\n",
    "print(f'Porcentagem na redução de memória: {round(porc,2)}%')\n",
    "\n",
    "# compara com o resultado da optimização\n",
    "ana.resultados_em_df(df_original, df_total)\n"
   ]
  }
 ],
 "metadata": {
  "hide_input": false,
  "kernelspec": {
   "display_name": "Python 3 (ipykernel)",
   "language": "python",
   "name": "python3"
  },
  "language_info": {
   "codemirror_mode": {
    "name": "ipython",
    "version": 3
   },
   "file_extension": ".py",
   "mimetype": "text/x-python",
   "name": "python",
   "nbconvert_exporter": "python",
   "pygments_lexer": "ipython3",
   "version": "3.10.6"
  }
 },
 "nbformat": 4,
 "nbformat_minor": 5
}
