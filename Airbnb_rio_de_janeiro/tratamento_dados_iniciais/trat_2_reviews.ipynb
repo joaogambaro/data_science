{
 "cells": [
  {
   "cell_type": "markdown",
   "id": "10f3afc6",
   "metadata": {},
   "source": [
    "# Índice<a id=\"ind\"></a>\n",
    "\n",
    "[**Introdução**](#limp_ini)\n",
    "\n",
    "[**Etapa 1**](#etapa1)\n",
    "* [Análise de uma amostra: identificação tipos mínimos e transformações](#ana_amo)\n",
    "        \n",
    "[**Etapa 2**](#etapa2)\n",
    "* [Carregamento e tratamento dos dados totais](#carr_tot)\n",
    "* [Comparação entre dados com e sem optimização](#comp)"
   ]
  },
  {
   "cell_type": "code",
   "execution_count": 1,
   "id": "35c75827",
   "metadata": {
    "scrolled": true
   },
   "outputs": [
    {
     "name": "stdout",
     "output_type": "stream",
     "text": [
      "Defaulting to user installation because normal site-packages is not writeable\n",
      "Collecting git+https://github.com/joaogambaro/optimizacao_dataframes\n",
      "  Cloning https://github.com/joaogambaro/optimizacao_dataframes to /tmp/pip-req-build-oz0mdxts\n",
      "  Running command git clone --filter=blob:none --quiet https://github.com/joaogambaro/optimizacao_dataframes /tmp/pip-req-build-oz0mdxts\n",
      "  Resolved https://github.com/joaogambaro/optimizacao_dataframes to commit 4aa7233977ba0e6952eee6480f5331c670cd4e68\n",
      "  Installing build dependencies ... \u001b[?25ldone\n",
      "\u001b[?25h  Getting requirements to build wheel ... \u001b[?25ldone\n",
      "\u001b[?25h  Preparing metadata (pyproject.toml) ... \u001b[?25ldone\n",
      "\u001b[?25hRequirement already satisfied: pandas>=1.5.0 in /home/joao/.local/lib/python3.10/site-packages (from optimizacao-dataframe==1.0.0) (1.5.2)\n",
      "Requirement already satisfied: pytz>=2020.1 in /home/joao/.local/lib/python3.10/site-packages (from pandas>=1.5.0->optimizacao-dataframe==1.0.0) (2022.6)\n",
      "Requirement already satisfied: python-dateutil>=2.8.1 in /home/joao/.local/lib/python3.10/site-packages (from pandas>=1.5.0->optimizacao-dataframe==1.0.0) (2.8.2)\n",
      "Requirement already satisfied: numpy>=1.21.0 in /home/joao/.local/lib/python3.10/site-packages (from pandas>=1.5.0->optimizacao-dataframe==1.0.0) (1.23.5)\n",
      "Requirement already satisfied: six>=1.5 in /usr/lib/python3/dist-packages (from python-dateutil>=2.8.1->pandas>=1.5.0->optimizacao-dataframe==1.0.0) (1.16.0)\n"
     ]
    }
   ],
   "source": [
    "# instala o pacote \"optimizacaoDF\"\n",
    "!pip install git+https://github.com/joaogambaro/optimizacao_dataframes"
   ]
  },
  {
   "cell_type": "code",
   "execution_count": 2,
   "id": "d6dac867",
   "metadata": {},
   "outputs": [],
   "source": [
    "import pandas as pd\n",
    "import numpy as np\n",
    "from pathlib import Path\n",
    "\n",
    "import optimizacaoDF.coleta_amostra as amo\n",
    "import optimizacaoDF.analise_resultados as ana\n",
    "import optimizacaoDF.optimizacao_dataframe as opt\n",
    "\n",
    "import os\n",
    "import importlib\n",
    "import warnings\n",
    "\n",
    "pd.pandas.set_option('display.max_columns', None)\n",
    "warnings.filterwarnings(\"ignore\")"
   ]
  },
  {
   "cell_type": "markdown",
   "id": "a0a1dccb",
   "metadata": {},
   "source": [
    "# Introdução<a id=\"limp_ini\"></a>\n",
    "[Índice](#ind)\n",
    "\n",
    "O objetivo central deste notebook foi desenvolver uma rotina para abrir um arquivo \".csv\" com um   consumo reduzido de memória.  A redução foi obtida identificando as colunas de dados que pode ser escritas com subtipos de variáveis menores.\n",
    "\n",
    "    Exemplo: para os dados abaixo, a coluna \"idade\" foi carregada com o tipo `float64`, \"nome\" com o tipo `object` e \"peso\" com o tipo `float64`. Contudo, estes tipos necessitam de mais memória do que o necessário para o armazenamento dos dados em questão. Para estes dados,  por exemplo, poderíamos escrever as colunas com os tipo, int8 para \"idade\", \"classify\" para \"nome\" e float32 para \"peso\" sem perda de informação, reduzindo o uso de memória.\n",
    "\n",
    "|idade(float64)|nome(object) | peso(float64)|\n",
    "|--|--|--|\n",
    "|34.0| João|64.5 |\n",
    "|32.0| Camila|75.8 |\n",
    "|31.0| José|65.3 |\n",
    "|26.0| Ana|58.0 |\n",
    "    \n",
    "Este trabalho foi dividido em etapas\n",
    "\n",
    "**Etapa 1: analisar um pequena amostra dos dados**\n",
    "\n",
    "Nesta etapa é carregado em um dataframe com uma amostra dos dados completos. O dataframe contém somente algumas linhas do arquivo original, que podem ser escolhidas aleatoriamente ou em sequência. A amostra selecionada é usada para identificar os subtipos mínimos de cada coluna e as transformações que podem ser feitas.\n",
    "\n",
    "**Etapa 2: carregamento dos dados totais**\n",
    "\n",
    "Nesta etapa os dados são carregados utilizando o subtipos mínimos identificados na etapa 1. Depois do carregamento, as transformações identificadas na etapa 1 são aplicadas e, por final, uma nova identificação de subtipos é feita. Estes últimos passos  podem reduzir ainda mais o tamanho do dataframe  na memória. O resultado final é salvo em um novo arquivo.\n",
    "\n",
    "\n",
    "**Observações**\n",
    "- para auxiliar nos processo das etapa 1 e 2 foi criado o pacote \"optimizacaoDF\" que foi instalado no incio do notebook\n",
    "\n",
    "- Quando os dados são salvos no final do processo, os subtipos que foram definidos não são salvos no arquivo. Ou seja, quando os dados forem abertos outras vezes, devemos novamente informar os tipos para reduzir o consumo de memória. Ainda assim, é importante salvar os o resultado final em um arquivo, pois muitos arquivos grandes possuem linhas em branco que serão eliminadas com o salvamento do resultado final. Além disso, as demais transformações feitas nos dados ficarão salvas com o novo arquivo."
   ]
  },
  {
   "cell_type": "markdown",
   "id": "5ffb5f1b",
   "metadata": {},
   "source": [
    "# Etapa 1<a id=\"etapa1\"></a>\n",
    "[Índice](#ind)\n",
    "\n",
    "## Análise de uma amostra: identificação tipos mínimos e transformações<a id=\"ana_amo\"></a>\n",
    "   \n",
    "\n",
    "- Identificação dos subtipos mínimos: \n",
    "\n",
    "Este processo é feito usando o método `obtem_subtipos` do pacote `optimizacaoDF`, que retorna um dicionário com os nomes das colunas e os subtipos mínimos.\n",
    "\n",
    ">Observações: \n",
    ">- neste trabalho não foi identifica nenhuma transformação necessária nos dados além das mudanças nos subtipos.\n",
    ">- no método obtem_subtipos foi usado \"can_float_be_int=False\" para que colunas com float nunca sejam identificadas como int (se fosse usado True o número 23.00, por exemplo, poderia ser identificado como o int, 23). Como estamos lidando com uma amostra, a melhor opção é usar False para este parâmetro. Isto porque com True o método pode associar uma coluna float como int para a amostra, enquanto que nos dados totais pode ser que isto seja impossível. Este fato pode acontecer, por exemplo, quando quando na amostra não existem dados Nan (que são float), mas nos dados totais existem."
   ]
  },
  {
   "cell_type": "code",
   "execution_count": 3,
   "id": "244b9f59",
   "metadata": {},
   "outputs": [
    {
     "name": "stdout",
     "output_type": "stream",
     "text": [
      "df.shape:  (500, 6)\n"
     ]
    },
    {
     "data": {
      "text/html": [
       "<div>\n",
       "<style scoped>\n",
       "    .dataframe tbody tr th:only-of-type {\n",
       "        vertical-align: middle;\n",
       "    }\n",
       "\n",
       "    .dataframe tbody tr th {\n",
       "        vertical-align: top;\n",
       "    }\n",
       "\n",
       "    .dataframe thead th {\n",
       "        text-align: right;\n",
       "    }\n",
       "</style>\n",
       "<table border=\"1\" class=\"dataframe\">\n",
       "  <thead>\n",
       "    <tr style=\"text-align: right;\">\n",
       "      <th></th>\n",
       "      <th>listing_id</th>\n",
       "      <th>id</th>\n",
       "      <th>date</th>\n",
       "      <th>reviewer_id</th>\n",
       "      <th>reviewer_name</th>\n",
       "      <th>comments</th>\n",
       "    </tr>\n",
       "  </thead>\n",
       "  <tbody>\n",
       "    <tr>\n",
       "      <th>0</th>\n",
       "      <td>17878</td>\n",
       "      <td>64852</td>\n",
       "      <td>2010-07-15</td>\n",
       "      <td>135370</td>\n",
       "      <td>Tia</td>\n",
       "      <td>This apartment is in a perfect location -- two...</td>\n",
       "    </tr>\n",
       "    <tr>\n",
       "      <th>1</th>\n",
       "      <td>17878</td>\n",
       "      <td>76744</td>\n",
       "      <td>2010-08-11</td>\n",
       "      <td>10206</td>\n",
       "      <td>Mimi</td>\n",
       "      <td>we had a really great experience staying in Ma...</td>\n",
       "    </tr>\n",
       "    <tr>\n",
       "      <th>2</th>\n",
       "      <td>17878</td>\n",
       "      <td>91074</td>\n",
       "      <td>2010-09-06</td>\n",
       "      <td>80253</td>\n",
       "      <td>Jan</td>\n",
       "      <td>Staying in Max appartment is like living in a ...</td>\n",
       "    </tr>\n",
       "  </tbody>\n",
       "</table>\n",
       "</div>"
      ],
      "text/plain": [
       "   listing_id     id        date  reviewer_id reviewer_name  \\\n",
       "0       17878  64852  2010-07-15       135370           Tia   \n",
       "1       17878  76744  2010-08-11        10206          Mimi   \n",
       "2       17878  91074  2010-09-06        80253           Jan   \n",
       "\n",
       "                                            comments  \n",
       "0  This apartment is in a perfect location -- two...  \n",
       "1  we had a really great experience staying in Ma...  \n",
       "2  Staying in Max appartment is like living in a ...  "
      ]
     },
     "metadata": {},
     "output_type": "display_data"
    }
   ],
   "source": [
    "# caminho do arquivo com dados\n",
    "current_path = os.getcwd()\n",
    "file_name=Path(current_path)/\"dados_originais/2_reviews.csv\"\n",
    "\n",
    "# coleta uma amostra(primeiras linhas)\n",
    "tamAm=500\n",
    "df=amo.coleta_amostr(tamAm, file_name, is_rand_sample=False)\n",
    "\n",
    "print(\"df.shape: \",df.shape)\n",
    "display(df.head(3))"
   ]
  },
  {
   "cell_type": "code",
   "execution_count": 4,
   "id": "a6ede50c",
   "metadata": {},
   "outputs": [
    {
     "data": {
      "text/plain": [
       "{'listing_id': 'uint32',\n",
       " 'id': 'uint64',\n",
       " 'date': 'object',\n",
       " 'reviewer_id': 'uint32',\n",
       " 'reviewer_name': 'object',\n",
       " 'comments': 'object'}"
      ]
     },
     "execution_count": 4,
     "metadata": {},
     "output_type": "execute_result"
    }
   ],
   "source": [
    "# obtem os subtipos minimos\n",
    "dict_sub = opt.obtem_subtipos(df,can_float_be_int=True)\n",
    "dict_sub"
   ]
  },
  {
   "cell_type": "markdown",
   "id": "e3ab113d",
   "metadata": {},
   "source": [
    "# Etapa 2<a id=\"etapa2\"></a>\n",
    "[Índice](#ind)\n",
    "\n",
    "## Carregamento e tratamento dos dados totais<a id=\"carr_tot\"></a>\n",
    "\n",
    "Rotina seguida:\n",
    "- 1. Carrega os dados com os subtipos mínimos identificados com a amostra\n",
    "\n",
    "- 2. Salva os dados em um arquivo"
   ]
  },
  {
   "cell_type": "code",
   "execution_count": 7,
   "id": "25574a36",
   "metadata": {},
   "outputs": [],
   "source": [
    "# carrega o dataframe com os tipos minimos\n",
    "df_final=pd.read_csv(file_name,\n",
    "                 low_memory=False,                 \n",
    "                 dtype= dict_sub   #dicionário com subtipos minimos \n",
    "                )\n",
    "\n",
    "# salva o arquivo\n",
    "current_path = os.getcwd()\n",
    "path_root=Path(current_path).parent\n",
    "df_final.to_csv(path_root/\"dados/2_reviews_opt.csv\", index=False)"
   ]
  },
  {
   "cell_type": "markdown",
   "id": "746c32f8",
   "metadata": {},
   "source": [
    "# Comparação entre dados com e sem optimização<a id=\"comp\"></a>\n",
    "[Índice](#ind)\n",
    "\n",
    "Para finalizar, demostro a eficácia do método usado. Com este objetivo foram carregados os dados completos sem a identificação dos subtipos e foi medido o consumo de memória para os dados com e sem o tratamento proposto. Fazendo isto, podemos verificar que há uma redução de apenas 1,61% na alocação de memória para este arquivo, mas reduções mais expressivas foram observadas em outros casos (como no arquivo \"1_listings.csv\" onde a redução foi de 87.46%).\n",
    "\n",
    "Também é mostrada uma comparação entre os tipos para os dados originais e para os dados com o tratamento. Esta comparação é feita pelo método `resultados_em_df` do pacote `optimizacaoDF`\n",
    "\n",
    ">**Observação:** a ideia do tratamento é não precisar carregar os dados completos com o seu consumo máximo de memória. Para isto, utilizamos uma amostra para identificar os subtipos usados no carregamento dos dados totais. Nesta seção, os dados totais foram carregados na sua forma menos eficiente somente para mostrar a eficácia dos métodos aplicados, mas ideia central é não precisar fazer este carregamento."
   ]
  },
  {
   "cell_type": "code",
   "execution_count": 6,
   "id": "bb6f8247",
   "metadata": {},
   "outputs": [
    {
     "name": "stdout",
     "output_type": "stream",
     "text": [
      "memória do df_original: 217.8Mb\n",
      "memória do df_final: 214.3Mb\n",
      "Porcentagem na redução de memória: 1.61%\n"
     ]
    },
    {
     "data": {
      "text/html": [
       "<div>\n",
       "<style scoped>\n",
       "    .dataframe tbody tr th:only-of-type {\n",
       "        vertical-align: middle;\n",
       "    }\n",
       "\n",
       "    .dataframe tbody tr th {\n",
       "        vertical-align: top;\n",
       "    }\n",
       "\n",
       "    .dataframe thead th {\n",
       "        text-align: right;\n",
       "    }\n",
       "</style>\n",
       "<table border=\"1\" class=\"dataframe\">\n",
       "  <thead>\n",
       "    <tr style=\"text-align: right;\">\n",
       "      <th></th>\n",
       "      <th>sem_mud</th>\n",
       "      <th>com_mud</th>\n",
       "    </tr>\n",
       "  </thead>\n",
       "  <tbody>\n",
       "    <tr>\n",
       "      <th>listing_id</th>\n",
       "      <td>int64</td>\n",
       "      <td>uint32</td>\n",
       "    </tr>\n",
       "    <tr>\n",
       "      <th>id</th>\n",
       "      <td>int64</td>\n",
       "      <td>uint64</td>\n",
       "    </tr>\n",
       "    <tr>\n",
       "      <th>date</th>\n",
       "      <td>object</td>\n",
       "      <td>object</td>\n",
       "    </tr>\n",
       "    <tr>\n",
       "      <th>reviewer_id</th>\n",
       "      <td>int64</td>\n",
       "      <td>uint32</td>\n",
       "    </tr>\n",
       "    <tr>\n",
       "      <th>reviewer_name</th>\n",
       "      <td>object</td>\n",
       "      <td>object</td>\n",
       "    </tr>\n",
       "    <tr>\n",
       "      <th>comments</th>\n",
       "      <td>object</td>\n",
       "      <td>object</td>\n",
       "    </tr>\n",
       "    <tr>\n",
       "      <th>uso_mem_MB</th>\n",
       "      <td>217.798783</td>\n",
       "      <td>214.301171</td>\n",
       "    </tr>\n",
       "  </tbody>\n",
       "</table>\n",
       "</div>"
      ],
      "text/plain": [
       "                  sem_mud     com_mud\n",
       "listing_id          int64      uint32\n",
       "id                  int64      uint64\n",
       "date               object      object\n",
       "reviewer_id         int64      uint32\n",
       "reviewer_name      object      object\n",
       "comments           object      object\n",
       "uso_mem_MB     217.798783  214.301171"
      ]
     },
     "execution_count": 6,
     "metadata": {},
     "output_type": "execute_result"
    }
   ],
   "source": [
    "# le o arquivo original(sem tranformação e sem conversao de tipo)\n",
    "df_original = pd.read_csv(file_name,\n",
    "                          low_memory=False,                          \n",
    "                         )\n",
    "\n",
    "\n",
    "# redução de momória\n",
    "porc = ana.porc_reducao(df_original,df_final)*100\n",
    "mem_df_original = ana.uso_memoria(df_original)\n",
    "mem_df_final = ana.uso_memoria(df_final)\n",
    "\n",
    "print(f'memória do df_original: {round(mem_df_original,2)}Mb')\n",
    "print(f'memória do df_final: {round(mem_df_final,2)}Mb')\n",
    "print(f'Porcentagem na redução de memória: {round(porc,2)}%')\n",
    "\n",
    "# compara com o resultado da optimização\n",
    "ana.resultados_em_df(df_original, df_final)"
   ]
  }
 ],
 "metadata": {
  "hide_input": false,
  "kernelspec": {
   "display_name": "Python 3 (ipykernel)",
   "language": "python",
   "name": "python3"
  },
  "language_info": {
   "codemirror_mode": {
    "name": "ipython",
    "version": 3
   },
   "file_extension": ".py",
   "mimetype": "text/x-python",
   "name": "python",
   "nbconvert_exporter": "python",
   "pygments_lexer": "ipython3",
   "version": "3.10.6"
  }
 },
 "nbformat": 4,
 "nbformat_minor": 5
}
